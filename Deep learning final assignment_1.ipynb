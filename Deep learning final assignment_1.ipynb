{
  "nbformat": 4,
  "nbformat_minor": 0,
  "metadata": {
    "colab": {
      "provenance": [],
      "authorship_tag": "ABX9TyPglzd4J0ezGmjm4/tDnA+a",
      "include_colab_link": true
    },
    "kernelspec": {
      "name": "python3",
      "display_name": "Python 3"
    },
    "language_info": {
      "name": "python"
    }
  },
  "cells": [
    {
      "cell_type": "markdown",
      "metadata": {
        "id": "view-in-github",
        "colab_type": "text"
      },
      "source": [
        "<a href=\"https://colab.research.google.com/github/meti78/My-Files/blob/main/Deep%20learning%20final%20assignment_1.ipynb\" target=\"_parent\"><img src=\"https://colab.research.google.com/assets/colab-badge.svg\" alt=\"Open In Colab\"/></a>"
      ]
    },
    {
      "cell_type": "code",
      "execution_count": 23,
      "metadata": {
        "id": "zGwkegWM6Z5b"
      },
      "outputs": [],
      "source": [
        "import pandas as pd\n",
        "import numpy as np\n",
        "import keras\n",
        "from keras.models import Sequential\n",
        "from keras.layers import Dense\n",
        "from sklearn.model_selection import train_test_split\n",
        "from sklearn.metrics import mean_squared_error"
      ]
    },
    {
      "cell_type": "code",
      "source": [
        "concrete_data = pd.read_csv('https://s3-api.us-geo.objectstorage.softlayer.net/cf-courses-data/CognitiveClass/DL0101EN/labs/data/concrete_data.csv')\n",
        "concrete_data.head()"
      ],
      "metadata": {
        "id": "obumsShE6d2b",
        "colab": {
          "base_uri": "https://localhost:8080/",
          "height": 305
        },
        "outputId": "c41bdbce-6194-44e7-aa39-a8badffb02a7"
      },
      "execution_count": 24,
      "outputs": [
        {
          "output_type": "execute_result",
          "data": {
            "text/plain": [
              "   Cement  Blast Furnace Slag  Fly Ash  Water  Superplasticizer  \\\n",
              "0   540.0                 0.0      0.0  162.0               2.5   \n",
              "1   540.0                 0.0      0.0  162.0               2.5   \n",
              "2   332.5               142.5      0.0  228.0               0.0   \n",
              "3   332.5               142.5      0.0  228.0               0.0   \n",
              "4   198.6               132.4      0.0  192.0               0.0   \n",
              "\n",
              "   Coarse Aggregate  Fine Aggregate  Age  Strength  \n",
              "0            1040.0           676.0   28     79.99  \n",
              "1            1055.0           676.0   28     61.89  \n",
              "2             932.0           594.0  270     40.27  \n",
              "3             932.0           594.0  365     41.05  \n",
              "4             978.4           825.5  360     44.30  "
            ],
            "text/html": [
              "\n",
              "  <div id=\"df-d13879a4-937d-402f-bb4e-e753f37730c6\">\n",
              "    <div class=\"colab-df-container\">\n",
              "      <div>\n",
              "<style scoped>\n",
              "    .dataframe tbody tr th:only-of-type {\n",
              "        vertical-align: middle;\n",
              "    }\n",
              "\n",
              "    .dataframe tbody tr th {\n",
              "        vertical-align: top;\n",
              "    }\n",
              "\n",
              "    .dataframe thead th {\n",
              "        text-align: right;\n",
              "    }\n",
              "</style>\n",
              "<table border=\"1\" class=\"dataframe\">\n",
              "  <thead>\n",
              "    <tr style=\"text-align: right;\">\n",
              "      <th></th>\n",
              "      <th>Cement</th>\n",
              "      <th>Blast Furnace Slag</th>\n",
              "      <th>Fly Ash</th>\n",
              "      <th>Water</th>\n",
              "      <th>Superplasticizer</th>\n",
              "      <th>Coarse Aggregate</th>\n",
              "      <th>Fine Aggregate</th>\n",
              "      <th>Age</th>\n",
              "      <th>Strength</th>\n",
              "    </tr>\n",
              "  </thead>\n",
              "  <tbody>\n",
              "    <tr>\n",
              "      <th>0</th>\n",
              "      <td>540.0</td>\n",
              "      <td>0.0</td>\n",
              "      <td>0.0</td>\n",
              "      <td>162.0</td>\n",
              "      <td>2.5</td>\n",
              "      <td>1040.0</td>\n",
              "      <td>676.0</td>\n",
              "      <td>28</td>\n",
              "      <td>79.99</td>\n",
              "    </tr>\n",
              "    <tr>\n",
              "      <th>1</th>\n",
              "      <td>540.0</td>\n",
              "      <td>0.0</td>\n",
              "      <td>0.0</td>\n",
              "      <td>162.0</td>\n",
              "      <td>2.5</td>\n",
              "      <td>1055.0</td>\n",
              "      <td>676.0</td>\n",
              "      <td>28</td>\n",
              "      <td>61.89</td>\n",
              "    </tr>\n",
              "    <tr>\n",
              "      <th>2</th>\n",
              "      <td>332.5</td>\n",
              "      <td>142.5</td>\n",
              "      <td>0.0</td>\n",
              "      <td>228.0</td>\n",
              "      <td>0.0</td>\n",
              "      <td>932.0</td>\n",
              "      <td>594.0</td>\n",
              "      <td>270</td>\n",
              "      <td>40.27</td>\n",
              "    </tr>\n",
              "    <tr>\n",
              "      <th>3</th>\n",
              "      <td>332.5</td>\n",
              "      <td>142.5</td>\n",
              "      <td>0.0</td>\n",
              "      <td>228.0</td>\n",
              "      <td>0.0</td>\n",
              "      <td>932.0</td>\n",
              "      <td>594.0</td>\n",
              "      <td>365</td>\n",
              "      <td>41.05</td>\n",
              "    </tr>\n",
              "    <tr>\n",
              "      <th>4</th>\n",
              "      <td>198.6</td>\n",
              "      <td>132.4</td>\n",
              "      <td>0.0</td>\n",
              "      <td>192.0</td>\n",
              "      <td>0.0</td>\n",
              "      <td>978.4</td>\n",
              "      <td>825.5</td>\n",
              "      <td>360</td>\n",
              "      <td>44.30</td>\n",
              "    </tr>\n",
              "  </tbody>\n",
              "</table>\n",
              "</div>\n",
              "      <button class=\"colab-df-convert\" onclick=\"convertToInteractive('df-d13879a4-937d-402f-bb4e-e753f37730c6')\"\n",
              "              title=\"Convert this dataframe to an interactive table.\"\n",
              "              style=\"display:none;\">\n",
              "        \n",
              "  <svg xmlns=\"http://www.w3.org/2000/svg\" height=\"24px\"viewBox=\"0 0 24 24\"\n",
              "       width=\"24px\">\n",
              "    <path d=\"M0 0h24v24H0V0z\" fill=\"none\"/>\n",
              "    <path d=\"M18.56 5.44l.94 2.06.94-2.06 2.06-.94-2.06-.94-.94-2.06-.94 2.06-2.06.94zm-11 1L8.5 8.5l.94-2.06 2.06-.94-2.06-.94L8.5 2.5l-.94 2.06-2.06.94zm10 10l.94 2.06.94-2.06 2.06-.94-2.06-.94-.94-2.06-.94 2.06-2.06.94z\"/><path d=\"M17.41 7.96l-1.37-1.37c-.4-.4-.92-.59-1.43-.59-.52 0-1.04.2-1.43.59L10.3 9.45l-7.72 7.72c-.78.78-.78 2.05 0 2.83L4 21.41c.39.39.9.59 1.41.59.51 0 1.02-.2 1.41-.59l7.78-7.78 2.81-2.81c.8-.78.8-2.07 0-2.86zM5.41 20L4 18.59l7.72-7.72 1.47 1.35L5.41 20z\"/>\n",
              "  </svg>\n",
              "      </button>\n",
              "      \n",
              "  <style>\n",
              "    .colab-df-container {\n",
              "      display:flex;\n",
              "      flex-wrap:wrap;\n",
              "      gap: 12px;\n",
              "    }\n",
              "\n",
              "    .colab-df-convert {\n",
              "      background-color: #E8F0FE;\n",
              "      border: none;\n",
              "      border-radius: 50%;\n",
              "      cursor: pointer;\n",
              "      display: none;\n",
              "      fill: #1967D2;\n",
              "      height: 32px;\n",
              "      padding: 0 0 0 0;\n",
              "      width: 32px;\n",
              "    }\n",
              "\n",
              "    .colab-df-convert:hover {\n",
              "      background-color: #E2EBFA;\n",
              "      box-shadow: 0px 1px 2px rgba(60, 64, 67, 0.3), 0px 1px 3px 1px rgba(60, 64, 67, 0.15);\n",
              "      fill: #174EA6;\n",
              "    }\n",
              "\n",
              "    [theme=dark] .colab-df-convert {\n",
              "      background-color: #3B4455;\n",
              "      fill: #D2E3FC;\n",
              "    }\n",
              "\n",
              "    [theme=dark] .colab-df-convert:hover {\n",
              "      background-color: #434B5C;\n",
              "      box-shadow: 0px 1px 3px 1px rgba(0, 0, 0, 0.15);\n",
              "      filter: drop-shadow(0px 1px 2px rgba(0, 0, 0, 0.3));\n",
              "      fill: #FFFFFF;\n",
              "    }\n",
              "  </style>\n",
              "\n",
              "      <script>\n",
              "        const buttonEl =\n",
              "          document.querySelector('#df-d13879a4-937d-402f-bb4e-e753f37730c6 button.colab-df-convert');\n",
              "        buttonEl.style.display =\n",
              "          google.colab.kernel.accessAllowed ? 'block' : 'none';\n",
              "\n",
              "        async function convertToInteractive(key) {\n",
              "          const element = document.querySelector('#df-d13879a4-937d-402f-bb4e-e753f37730c6');\n",
              "          const dataTable =\n",
              "            await google.colab.kernel.invokeFunction('convertToInteractive',\n",
              "                                                     [key], {});\n",
              "          if (!dataTable) return;\n",
              "\n",
              "          const docLinkHtml = 'Like what you see? Visit the ' +\n",
              "            '<a target=\"_blank\" href=https://colab.research.google.com/notebooks/data_table.ipynb>data table notebook</a>'\n",
              "            + ' to learn more about interactive tables.';\n",
              "          element.innerHTML = '';\n",
              "          dataTable['output_type'] = 'display_data';\n",
              "          await google.colab.output.renderOutput(dataTable, element);\n",
              "          const docLink = document.createElement('div');\n",
              "          docLink.innerHTML = docLinkHtml;\n",
              "          element.appendChild(docLink);\n",
              "        }\n",
              "      </script>\n",
              "    </div>\n",
              "  </div>\n",
              "  "
            ]
          },
          "metadata": {},
          "execution_count": 24
        }
      ]
    },
    {
      "cell_type": "code",
      "source": [
        "concrete_data_columns = concrete_data.columns\n",
        "\n",
        "predictors = concrete_data[concrete_data_columns[concrete_data_columns != 'Strength']] # all columns except Strength\n",
        "target = concrete_data['Strength'] # Strength column"
      ],
      "metadata": {
        "id": "tnlvQkiV8fjK"
      },
      "execution_count": 25,
      "outputs": []
    },
    {
      "cell_type": "markdown",
      "source": [
        "Split dataset into training and test"
      ],
      "metadata": {
        "id": "36xQCfJn9ay_"
      }
    },
    {
      "cell_type": "code",
      "source": [
        "X_train, X_test, y_train, y_test = train_test_split(predictors, target, test_size=0.3, random_state=4)"
      ],
      "metadata": {
        "id": "iVIjlgrY8mj9"
      },
      "execution_count": 26,
      "outputs": []
    },
    {
      "cell_type": "markdown",
      "source": [
        "Number of predictors"
      ],
      "metadata": {
        "id": "-qAB9m8u9mCi"
      }
    },
    {
      "cell_type": "code",
      "source": [
        "n_cols = predictors.shape[1]\n",
        "print('Number of predictors:', n_cols)"
      ],
      "metadata": {
        "colab": {
          "base_uri": "https://localhost:8080/"
        },
        "id": "pSKBFff89s8M",
        "outputId": "55382789-0579-4117-8a65-cc80aaa1b526"
      },
      "execution_count": 27,
      "outputs": [
        {
          "output_type": "stream",
          "name": "stdout",
          "text": [
            "Number of predictors: 8\n"
          ]
        }
      ]
    },
    {
      "cell_type": "markdown",
      "source": [
        "Defining the regression model"
      ],
      "metadata": {
        "id": "8c8oppi994zL"
      }
    },
    {
      "cell_type": "code",
      "source": [
        "def reg_model():\n",
        "  model = Sequential()\n",
        "  model.add(Dense(10, activation='relu', input_shape=(n_cols,)))\n",
        "  model.add(Dense(1))\n",
        "  model.compile(optimizer='adam', loss='mean_squared_error')\n",
        "  return model"
      ],
      "metadata": {
        "id": "rnMLuhw499TT"
      },
      "execution_count": 28,
      "outputs": []
    },
    {
      "cell_type": "markdown",
      "source": [
        "building and fitting the model\n",
        "\n"
      ],
      "metadata": {
        "id": "z2s5fDfI-akg"
      }
    },
    {
      "cell_type": "code",
      "source": [
        "model=reg_model()"
      ],
      "metadata": {
        "id": "Yq3mnPu4-i23"
      },
      "execution_count": 29,
      "outputs": []
    },
    {
      "cell_type": "code",
      "source": [
        "model.fit(X_train, y_train, epochs=50, verbose=1)"
      ],
      "metadata": {
        "colab": {
          "base_uri": "https://localhost:8080/"
        },
        "id": "HDQbbp8x-1Ej",
        "outputId": "66447b4e-2779-4999-8c89-5da41040da4e"
      },
      "execution_count": 30,
      "outputs": [
        {
          "output_type": "stream",
          "name": "stdout",
          "text": [
            "Epoch 1/50\n",
            "23/23 [==============================] - 1s 5ms/step - loss: 5971.0894\n",
            "Epoch 2/50\n",
            "23/23 [==============================] - 0s 6ms/step - loss: 3181.0083\n",
            "Epoch 3/50\n",
            "23/23 [==============================] - 0s 3ms/step - loss: 2491.5337\n",
            "Epoch 4/50\n",
            "23/23 [==============================] - 0s 6ms/step - loss: 1879.6614\n",
            "Epoch 5/50\n",
            "23/23 [==============================] - 0s 3ms/step - loss: 1376.0750\n",
            "Epoch 6/50\n",
            "23/23 [==============================] - 0s 4ms/step - loss: 1124.1514\n",
            "Epoch 7/50\n",
            "23/23 [==============================] - 0s 4ms/step - loss: 931.5283\n",
            "Epoch 8/50\n",
            "23/23 [==============================] - 0s 6ms/step - loss: 791.4675\n",
            "Epoch 9/50\n",
            "23/23 [==============================] - 0s 4ms/step - loss: 660.9166\n",
            "Epoch 10/50\n",
            "23/23 [==============================] - 0s 6ms/step - loss: 552.5910\n",
            "Epoch 11/50\n",
            "23/23 [==============================] - 0s 7ms/step - loss: 468.4895\n",
            "Epoch 12/50\n",
            "23/23 [==============================] - 0s 5ms/step - loss: 404.4706\n",
            "Epoch 13/50\n",
            "23/23 [==============================] - 0s 6ms/step - loss: 347.8296\n",
            "Epoch 14/50\n",
            "23/23 [==============================] - 0s 5ms/step - loss: 302.6702\n",
            "Epoch 15/50\n",
            "23/23 [==============================] - 0s 6ms/step - loss: 269.7200\n",
            "Epoch 16/50\n",
            "23/23 [==============================] - 0s 4ms/step - loss: 239.0041\n",
            "Epoch 17/50\n",
            "23/23 [==============================] - 0s 5ms/step - loss: 217.7270\n",
            "Epoch 18/50\n",
            "23/23 [==============================] - 0s 5ms/step - loss: 201.0736\n",
            "Epoch 19/50\n",
            "23/23 [==============================] - 0s 5ms/step - loss: 182.1690\n",
            "Epoch 20/50\n",
            "23/23 [==============================] - 0s 10ms/step - loss: 173.4250\n",
            "Epoch 21/50\n",
            "23/23 [==============================] - 0s 4ms/step - loss: 163.3637\n",
            "Epoch 22/50\n",
            "23/23 [==============================] - 0s 6ms/step - loss: 155.3772\n",
            "Epoch 23/50\n",
            "23/23 [==============================] - 0s 5ms/step - loss: 146.5995\n",
            "Epoch 24/50\n",
            "23/23 [==============================] - 0s 4ms/step - loss: 140.7362\n",
            "Epoch 25/50\n",
            "23/23 [==============================] - 0s 4ms/step - loss: 134.9957\n",
            "Epoch 26/50\n",
            "23/23 [==============================] - 0s 7ms/step - loss: 132.7767\n",
            "Epoch 27/50\n",
            "23/23 [==============================] - 0s 4ms/step - loss: 132.9361\n",
            "Epoch 28/50\n",
            "23/23 [==============================] - 0s 4ms/step - loss: 127.4658\n",
            "Epoch 29/50\n",
            "23/23 [==============================] - 0s 4ms/step - loss: 124.8828\n",
            "Epoch 30/50\n",
            "23/23 [==============================] - 0s 7ms/step - loss: 118.0696\n",
            "Epoch 31/50\n",
            "23/23 [==============================] - 0s 7ms/step - loss: 120.8432\n",
            "Epoch 32/50\n",
            "23/23 [==============================] - 0s 4ms/step - loss: 120.4281\n",
            "Epoch 33/50\n",
            "23/23 [==============================] - 0s 7ms/step - loss: 113.7045\n",
            "Epoch 34/50\n",
            "23/23 [==============================] - 0s 8ms/step - loss: 112.2175\n",
            "Epoch 35/50\n",
            "23/23 [==============================] - 0s 5ms/step - loss: 112.4345\n",
            "Epoch 36/50\n",
            "23/23 [==============================] - 0s 5ms/step - loss: 109.3159\n",
            "Epoch 37/50\n",
            "23/23 [==============================] - 0s 4ms/step - loss: 108.1525\n",
            "Epoch 38/50\n",
            "23/23 [==============================] - 0s 10ms/step - loss: 107.8493\n",
            "Epoch 39/50\n",
            "23/23 [==============================] - 0s 14ms/step - loss: 109.2149\n",
            "Epoch 40/50\n",
            "23/23 [==============================] - 0s 7ms/step - loss: 108.2650\n",
            "Epoch 41/50\n",
            "23/23 [==============================] - 0s 6ms/step - loss: 104.4524\n",
            "Epoch 42/50\n",
            "23/23 [==============================] - 0s 6ms/step - loss: 108.4380\n",
            "Epoch 43/50\n",
            "23/23 [==============================] - 0s 8ms/step - loss: 103.8540\n",
            "Epoch 44/50\n",
            "23/23 [==============================] - 0s 9ms/step - loss: 104.7893\n",
            "Epoch 45/50\n",
            "23/23 [==============================] - 0s 4ms/step - loss: 103.7782\n",
            "Epoch 46/50\n",
            "23/23 [==============================] - 0s 9ms/step - loss: 101.2815\n",
            "Epoch 47/50\n",
            "23/23 [==============================] - 0s 5ms/step - loss: 101.6189\n",
            "Epoch 48/50\n",
            "23/23 [==============================] - 0s 5ms/step - loss: 100.6979\n",
            "Epoch 49/50\n",
            "23/23 [==============================] - 0s 2ms/step - loss: 98.7274\n",
            "Epoch 50/50\n",
            "23/23 [==============================] - 0s 2ms/step - loss: 100.3831\n"
          ]
        },
        {
          "output_type": "execute_result",
          "data": {
            "text/plain": [
              "<keras.callbacks.History at 0x7f861194faf0>"
            ]
          },
          "metadata": {},
          "execution_count": 30
        }
      ]
    },
    {
      "cell_type": "markdown",
      "source": [
        "Predicting X_test"
      ],
      "metadata": {
        "id": "yKIR4c1P_oO5"
      }
    },
    {
      "cell_type": "code",
      "source": [
        "yhat=model.predict(X_test)\n",
        "loss=mean_squared_error(y_test, yhat)\n",
        "mean=np.mean(loss)\n",
        "st_d=np.std(loss)\n",
        "\n",
        "print('mean squared error:', mean)\n",
        "print(\"standrad deviation:\", st_d)"
      ],
      "metadata": {
        "colab": {
          "base_uri": "https://localhost:8080/"
        },
        "id": "73pVOxcN_upc",
        "outputId": "208a4ee0-d1b3-4a04-80a8-dd93f17a2f01"
      },
      "execution_count": 31,
      "outputs": [
        {
          "output_type": "stream",
          "name": "stdout",
          "text": [
            "10/10 [==============================] - 0s 2ms/step\n",
            "mean squared error: 120.9297617977577\n",
            "standrad deviation: 0.0\n"
          ]
        }
      ]
    },
    {
      "cell_type": "markdown",
      "source": [
        "Repeat for 50 times and report MSE"
      ],
      "metadata": {
        "id": "jysU06g8AmVu"
      }
    },
    {
      "cell_type": "code",
      "source": [
        "total_mean_squared_errors = 50\n",
        "mean_squared_errors = []\n",
        "for i in range(0, total_mean_squared_errors):\n",
        "    X_train, X_test, y_train, y_test = train_test_split(predictors, target, test_size=0.3, random_state=i)\n",
        "    model.fit(X_train, y_train, epochs=50, verbose=0)\n",
        "    MSE = model.evaluate(X_test, y_test, verbose=0)\n",
        "    print(\"MSE \"+str(i+1)+\": \"+str(MSE))\n",
        "\n",
        "    y_pred = model.predict(X_test)\n",
        "    mean_square_error = mean_squared_error(y_test, y_pred)\n",
        "    mean_squared_errors.append(mean_square_error)\n",
        "\n",
        "mean_squared_errors = np.array(mean_squared_errors)\n",
        "mean = np.mean(mean_squared_errors)\n",
        "standard_deviation = np.std(mean_squared_errors)\n",
        "\n",
        "print('\\n')\n",
        "print(\"Below is the mean and standard deviation of \" +str(total_mean_squared_errors) + \" mean squared errors \")\n",
        "print(\"Mean: \"+str(mean))\n",
        "print(\"Standard Deviation: \"+str(standard_deviation))"
      ],
      "metadata": {
        "colab": {
          "base_uri": "https://localhost:8080/"
        },
        "id": "kZQcPVtwAr-5",
        "outputId": "383fcebb-b29a-48be-d08e-8e1dd336bd50"
      },
      "execution_count": 33,
      "outputs": [
        {
          "output_type": "stream",
          "name": "stdout",
          "text": [
            "MSE 1: 56.90595245361328\n",
            "10/10 [==============================] - 0s 2ms/step\n",
            "MSE 2: 65.4836196899414\n",
            "10/10 [==============================] - 0s 3ms/step\n",
            "MSE 3: 55.03474426269531\n",
            "10/10 [==============================] - 0s 2ms/step\n",
            "MSE 4: 72.60684204101562\n",
            "10/10 [==============================] - 0s 2ms/step\n",
            "MSE 5: 61.56044387817383\n",
            "10/10 [==============================] - 0s 2ms/step\n",
            "MSE 6: 66.92745971679688\n",
            "10/10 [==============================] - 0s 2ms/step\n",
            "MSE 7: 69.21399688720703\n",
            "10/10 [==============================] - 0s 2ms/step\n",
            "MSE 8: 50.9619026184082\n",
            "10/10 [==============================] - 0s 2ms/step\n",
            "MSE 9: 59.79979705810547\n",
            "10/10 [==============================] - 0s 2ms/step\n",
            "MSE 10: 59.734703063964844\n",
            "10/10 [==============================] - 0s 2ms/step\n",
            "MSE 11: 55.71663284301758\n",
            "10/10 [==============================] - 0s 2ms/step\n",
            "MSE 12: 63.40434646606445\n",
            "10/10 [==============================] - 0s 2ms/step\n",
            "MSE 13: 63.92930221557617\n",
            "10/10 [==============================] - 0s 2ms/step\n",
            "MSE 14: 63.84572219848633\n",
            "10/10 [==============================] - 0s 2ms/step\n",
            "MSE 15: 66.78378295898438\n",
            "10/10 [==============================] - 0s 2ms/step\n",
            "MSE 16: 50.310726165771484\n",
            "10/10 [==============================] - 0s 2ms/step\n",
            "MSE 17: 53.412418365478516\n",
            "10/10 [==============================] - 0s 2ms/step\n",
            "MSE 18: 51.769325256347656\n",
            "10/10 [==============================] - 0s 2ms/step\n",
            "MSE 19: 50.61802673339844\n",
            "10/10 [==============================] - 0s 2ms/step\n",
            "MSE 20: 59.701904296875\n",
            "10/10 [==============================] - 0s 2ms/step\n",
            "MSE 21: 53.43961715698242\n",
            "10/10 [==============================] - 0s 2ms/step\n",
            "MSE 22: 57.0582160949707\n",
            "10/10 [==============================] - 0s 2ms/step\n",
            "MSE 23: 55.464786529541016\n",
            "10/10 [==============================] - 0s 2ms/step\n",
            "MSE 24: 58.011383056640625\n",
            "10/10 [==============================] - 0s 2ms/step\n",
            "MSE 25: 53.022830963134766\n",
            "10/10 [==============================] - 0s 2ms/step\n",
            "MSE 26: 59.347721099853516\n",
            "10/10 [==============================] - 0s 2ms/step\n",
            "MSE 27: 55.873680114746094\n",
            "10/10 [==============================] - 0s 2ms/step\n",
            "MSE 28: 56.79365921020508\n",
            "10/10 [==============================] - 0s 2ms/step\n",
            "MSE 29: 61.65126419067383\n",
            "10/10 [==============================] - 0s 2ms/step\n",
            "MSE 30: 57.59611892700195\n",
            "10/10 [==============================] - 0s 3ms/step\n",
            "MSE 31: 58.236915588378906\n",
            "10/10 [==============================] - 0s 2ms/step\n",
            "MSE 32: 60.060874938964844\n",
            "10/10 [==============================] - 0s 3ms/step\n",
            "MSE 33: 57.39408874511719\n",
            "10/10 [==============================] - 0s 2ms/step\n",
            "MSE 34: 55.327327728271484\n",
            "10/10 [==============================] - 0s 2ms/step\n",
            "MSE 35: 54.511451721191406\n",
            "10/10 [==============================] - 0s 2ms/step\n",
            "MSE 36: 70.29769134521484\n",
            "10/10 [==============================] - 0s 2ms/step\n",
            "MSE 37: 60.87627029418945\n",
            "10/10 [==============================] - 0s 2ms/step\n",
            "MSE 38: 57.46855926513672\n",
            "10/10 [==============================] - 0s 2ms/step\n",
            "MSE 39: 55.13026428222656\n",
            "10/10 [==============================] - 0s 2ms/step\n",
            "MSE 40: 51.63376998901367\n",
            "10/10 [==============================] - 0s 2ms/step\n",
            "MSE 41: 66.5197525024414\n",
            "10/10 [==============================] - 0s 2ms/step\n",
            "MSE 42: 55.86838150024414\n",
            "10/10 [==============================] - 0s 2ms/step\n",
            "MSE 43: 61.883583068847656\n",
            "10/10 [==============================] - 0s 2ms/step\n",
            "MSE 44: 60.93259048461914\n",
            "10/10 [==============================] - 0s 2ms/step\n",
            "MSE 45: 65.50071716308594\n",
            "10/10 [==============================] - 0s 2ms/step\n",
            "MSE 46: 59.354244232177734\n",
            "10/10 [==============================] - 0s 3ms/step\n",
            "MSE 47: 59.08972930908203\n",
            "10/10 [==============================] - 0s 2ms/step\n",
            "MSE 48: 59.27709197998047\n",
            "10/10 [==============================] - 0s 3ms/step\n",
            "MSE 49: 58.49889373779297\n",
            "10/10 [==============================] - 0s 2ms/step\n",
            "MSE 50: 62.163482666015625\n",
            "10/10 [==============================] - 0s 2ms/step\n",
            "\n",
            "\n",
            "Below is the mean and standard deviation of 50 mean squared errors \n",
            "Mean: 59.12013214117614\n",
            "Standard Deviation: 5.164950906319504\n"
          ]
        }
      ]
    },
    {
      "cell_type": "code",
      "source": [],
      "metadata": {
        "id": "1D1StSIXBCPv"
      },
      "execution_count": null,
      "outputs": []
    }
  ]
}