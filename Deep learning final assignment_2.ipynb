{
  "nbformat": 4,
  "nbformat_minor": 0,
  "metadata": {
    "colab": {
      "provenance": [],
      "authorship_tag": "ABX9TyPu84jYJuhEWtjnSHLz72dw",
      "include_colab_link": true
    },
    "kernelspec": {
      "name": "python3",
      "display_name": "Python 3"
    },
    "language_info": {
      "name": "python"
    }
  },
  "cells": [
    {
      "cell_type": "markdown",
      "metadata": {
        "id": "view-in-github",
        "colab_type": "text"
      },
      "source": [
        "<a href=\"https://colab.research.google.com/github/meti78/My-Files/blob/main/Deep%20learning%20final%20assignment_2.ipynb\" target=\"_parent\"><img src=\"https://colab.research.google.com/assets/colab-badge.svg\" alt=\"Open In Colab\"/></a>"
      ]
    },
    {
      "cell_type": "code",
      "execution_count": 23,
      "metadata": {
        "id": "zGwkegWM6Z5b"
      },
      "outputs": [],
      "source": [
        "import pandas as pd\n",
        "import numpy as np\n",
        "import keras\n",
        "from keras.models import Sequential\n",
        "from keras.layers import Dense\n",
        "from sklearn.model_selection import train_test_split\n",
        "from sklearn.metrics import mean_squared_error"
      ]
    },
    {
      "cell_type": "code",
      "source": [
        "concrete_data = pd.read_csv('https://s3-api.us-geo.objectstorage.softlayer.net/cf-courses-data/CognitiveClass/DL0101EN/labs/data/concrete_data.csv')\n",
        "concrete_data.head()"
      ],
      "metadata": {
        "id": "obumsShE6d2b",
        "colab": {
          "base_uri": "https://localhost:8080/",
          "height": 305
        },
        "outputId": "c41bdbce-6194-44e7-aa39-a8badffb02a7"
      },
      "execution_count": 24,
      "outputs": [
        {
          "output_type": "execute_result",
          "data": {
            "text/plain": [
              "   Cement  Blast Furnace Slag  Fly Ash  Water  Superplasticizer  \\\n",
              "0   540.0                 0.0      0.0  162.0               2.5   \n",
              "1   540.0                 0.0      0.0  162.0               2.5   \n",
              "2   332.5               142.5      0.0  228.0               0.0   \n",
              "3   332.5               142.5      0.0  228.0               0.0   \n",
              "4   198.6               132.4      0.0  192.0               0.0   \n",
              "\n",
              "   Coarse Aggregate  Fine Aggregate  Age  Strength  \n",
              "0            1040.0           676.0   28     79.99  \n",
              "1            1055.0           676.0   28     61.89  \n",
              "2             932.0           594.0  270     40.27  \n",
              "3             932.0           594.0  365     41.05  \n",
              "4             978.4           825.5  360     44.30  "
            ],
            "text/html": [
              "\n",
              "  <div id=\"df-d13879a4-937d-402f-bb4e-e753f37730c6\">\n",
              "    <div class=\"colab-df-container\">\n",
              "      <div>\n",
              "<style scoped>\n",
              "    .dataframe tbody tr th:only-of-type {\n",
              "        vertical-align: middle;\n",
              "    }\n",
              "\n",
              "    .dataframe tbody tr th {\n",
              "        vertical-align: top;\n",
              "    }\n",
              "\n",
              "    .dataframe thead th {\n",
              "        text-align: right;\n",
              "    }\n",
              "</style>\n",
              "<table border=\"1\" class=\"dataframe\">\n",
              "  <thead>\n",
              "    <tr style=\"text-align: right;\">\n",
              "      <th></th>\n",
              "      <th>Cement</th>\n",
              "      <th>Blast Furnace Slag</th>\n",
              "      <th>Fly Ash</th>\n",
              "      <th>Water</th>\n",
              "      <th>Superplasticizer</th>\n",
              "      <th>Coarse Aggregate</th>\n",
              "      <th>Fine Aggregate</th>\n",
              "      <th>Age</th>\n",
              "      <th>Strength</th>\n",
              "    </tr>\n",
              "  </thead>\n",
              "  <tbody>\n",
              "    <tr>\n",
              "      <th>0</th>\n",
              "      <td>540.0</td>\n",
              "      <td>0.0</td>\n",
              "      <td>0.0</td>\n",
              "      <td>162.0</td>\n",
              "      <td>2.5</td>\n",
              "      <td>1040.0</td>\n",
              "      <td>676.0</td>\n",
              "      <td>28</td>\n",
              "      <td>79.99</td>\n",
              "    </tr>\n",
              "    <tr>\n",
              "      <th>1</th>\n",
              "      <td>540.0</td>\n",
              "      <td>0.0</td>\n",
              "      <td>0.0</td>\n",
              "      <td>162.0</td>\n",
              "      <td>2.5</td>\n",
              "      <td>1055.0</td>\n",
              "      <td>676.0</td>\n",
              "      <td>28</td>\n",
              "      <td>61.89</td>\n",
              "    </tr>\n",
              "    <tr>\n",
              "      <th>2</th>\n",
              "      <td>332.5</td>\n",
              "      <td>142.5</td>\n",
              "      <td>0.0</td>\n",
              "      <td>228.0</td>\n",
              "      <td>0.0</td>\n",
              "      <td>932.0</td>\n",
              "      <td>594.0</td>\n",
              "      <td>270</td>\n",
              "      <td>40.27</td>\n",
              "    </tr>\n",
              "    <tr>\n",
              "      <th>3</th>\n",
              "      <td>332.5</td>\n",
              "      <td>142.5</td>\n",
              "      <td>0.0</td>\n",
              "      <td>228.0</td>\n",
              "      <td>0.0</td>\n",
              "      <td>932.0</td>\n",
              "      <td>594.0</td>\n",
              "      <td>365</td>\n",
              "      <td>41.05</td>\n",
              "    </tr>\n",
              "    <tr>\n",
              "      <th>4</th>\n",
              "      <td>198.6</td>\n",
              "      <td>132.4</td>\n",
              "      <td>0.0</td>\n",
              "      <td>192.0</td>\n",
              "      <td>0.0</td>\n",
              "      <td>978.4</td>\n",
              "      <td>825.5</td>\n",
              "      <td>360</td>\n",
              "      <td>44.30</td>\n",
              "    </tr>\n",
              "  </tbody>\n",
              "</table>\n",
              "</div>\n",
              "      <button class=\"colab-df-convert\" onclick=\"convertToInteractive('df-d13879a4-937d-402f-bb4e-e753f37730c6')\"\n",
              "              title=\"Convert this dataframe to an interactive table.\"\n",
              "              style=\"display:none;\">\n",
              "        \n",
              "  <svg xmlns=\"http://www.w3.org/2000/svg\" height=\"24px\"viewBox=\"0 0 24 24\"\n",
              "       width=\"24px\">\n",
              "    <path d=\"M0 0h24v24H0V0z\" fill=\"none\"/>\n",
              "    <path d=\"M18.56 5.44l.94 2.06.94-2.06 2.06-.94-2.06-.94-.94-2.06-.94 2.06-2.06.94zm-11 1L8.5 8.5l.94-2.06 2.06-.94-2.06-.94L8.5 2.5l-.94 2.06-2.06.94zm10 10l.94 2.06.94-2.06 2.06-.94-2.06-.94-.94-2.06-.94 2.06-2.06.94z\"/><path d=\"M17.41 7.96l-1.37-1.37c-.4-.4-.92-.59-1.43-.59-.52 0-1.04.2-1.43.59L10.3 9.45l-7.72 7.72c-.78.78-.78 2.05 0 2.83L4 21.41c.39.39.9.59 1.41.59.51 0 1.02-.2 1.41-.59l7.78-7.78 2.81-2.81c.8-.78.8-2.07 0-2.86zM5.41 20L4 18.59l7.72-7.72 1.47 1.35L5.41 20z\"/>\n",
              "  </svg>\n",
              "      </button>\n",
              "      \n",
              "  <style>\n",
              "    .colab-df-container {\n",
              "      display:flex;\n",
              "      flex-wrap:wrap;\n",
              "      gap: 12px;\n",
              "    }\n",
              "\n",
              "    .colab-df-convert {\n",
              "      background-color: #E8F0FE;\n",
              "      border: none;\n",
              "      border-radius: 50%;\n",
              "      cursor: pointer;\n",
              "      display: none;\n",
              "      fill: #1967D2;\n",
              "      height: 32px;\n",
              "      padding: 0 0 0 0;\n",
              "      width: 32px;\n",
              "    }\n",
              "\n",
              "    .colab-df-convert:hover {\n",
              "      background-color: #E2EBFA;\n",
              "      box-shadow: 0px 1px 2px rgba(60, 64, 67, 0.3), 0px 1px 3px 1px rgba(60, 64, 67, 0.15);\n",
              "      fill: #174EA6;\n",
              "    }\n",
              "\n",
              "    [theme=dark] .colab-df-convert {\n",
              "      background-color: #3B4455;\n",
              "      fill: #D2E3FC;\n",
              "    }\n",
              "\n",
              "    [theme=dark] .colab-df-convert:hover {\n",
              "      background-color: #434B5C;\n",
              "      box-shadow: 0px 1px 3px 1px rgba(0, 0, 0, 0.15);\n",
              "      filter: drop-shadow(0px 1px 2px rgba(0, 0, 0, 0.3));\n",
              "      fill: #FFFFFF;\n",
              "    }\n",
              "  </style>\n",
              "\n",
              "      <script>\n",
              "        const buttonEl =\n",
              "          document.querySelector('#df-d13879a4-937d-402f-bb4e-e753f37730c6 button.colab-df-convert');\n",
              "        buttonEl.style.display =\n",
              "          google.colab.kernel.accessAllowed ? 'block' : 'none';\n",
              "\n",
              "        async function convertToInteractive(key) {\n",
              "          const element = document.querySelector('#df-d13879a4-937d-402f-bb4e-e753f37730c6');\n",
              "          const dataTable =\n",
              "            await google.colab.kernel.invokeFunction('convertToInteractive',\n",
              "                                                     [key], {});\n",
              "          if (!dataTable) return;\n",
              "\n",
              "          const docLinkHtml = 'Like what you see? Visit the ' +\n",
              "            '<a target=\"_blank\" href=https://colab.research.google.com/notebooks/data_table.ipynb>data table notebook</a>'\n",
              "            + ' to learn more about interactive tables.';\n",
              "          element.innerHTML = '';\n",
              "          dataTable['output_type'] = 'display_data';\n",
              "          await google.colab.output.renderOutput(dataTable, element);\n",
              "          const docLink = document.createElement('div');\n",
              "          docLink.innerHTML = docLinkHtml;\n",
              "          element.appendChild(docLink);\n",
              "        }\n",
              "      </script>\n",
              "    </div>\n",
              "  </div>\n",
              "  "
            ]
          },
          "metadata": {},
          "execution_count": 24
        }
      ]
    },
    {
      "cell_type": "code",
      "source": [
        "concrete_data_columns = concrete_data.columns\n",
        "\n",
        "predictors = concrete_data[concrete_data_columns[concrete_data_columns != 'Strength']] # all columns except Strength\n",
        "target = concrete_data['Strength'] # Strength column"
      ],
      "metadata": {
        "id": "tnlvQkiV8fjK"
      },
      "execution_count": 25,
      "outputs": []
    },
    {
      "cell_type": "markdown",
      "source": [
        "normalizing data"
      ],
      "metadata": {
        "id": "VfX0Ns47FX14"
      }
    },
    {
      "cell_type": "code",
      "source": [
        "normalized_predictors = (predictors - predictors.mean()) / predictors.std()"
      ],
      "metadata": {
        "id": "xO140iVrFdMW"
      },
      "execution_count": 34,
      "outputs": []
    },
    {
      "cell_type": "markdown",
      "source": [
        "Split dataset into training and test"
      ],
      "metadata": {
        "id": "36xQCfJn9ay_"
      }
    },
    {
      "cell_type": "code",
      "source": [
        "X_train, X_test, y_train, y_test = train_test_split(normalized_predictors, target, test_size=0.3, random_state=4)"
      ],
      "metadata": {
        "id": "iVIjlgrY8mj9"
      },
      "execution_count": 35,
      "outputs": []
    },
    {
      "cell_type": "markdown",
      "source": [
        "Number of predictors"
      ],
      "metadata": {
        "id": "-qAB9m8u9mCi"
      }
    },
    {
      "cell_type": "code",
      "source": [
        "n_cols = predictors.shape[1]\n",
        "print('Number of predictors:', n_cols)"
      ],
      "metadata": {
        "colab": {
          "base_uri": "https://localhost:8080/"
        },
        "id": "pSKBFff89s8M",
        "outputId": "f23e70e3-d34e-4862-d5f0-d046305ae396"
      },
      "execution_count": 36,
      "outputs": [
        {
          "output_type": "stream",
          "name": "stdout",
          "text": [
            "Number of predictors: 8\n"
          ]
        }
      ]
    },
    {
      "cell_type": "markdown",
      "source": [
        "Defining the regression model"
      ],
      "metadata": {
        "id": "8c8oppi994zL"
      }
    },
    {
      "cell_type": "code",
      "source": [
        "def reg_model():\n",
        "  model = Sequential()\n",
        "  model.add(Dense(10, activation='relu', input_shape=(n_cols,)))\n",
        "  model.add(Dense(1))\n",
        "  model.compile(optimizer='adam', loss='mean_squared_error')\n",
        "  return model"
      ],
      "metadata": {
        "id": "rnMLuhw499TT"
      },
      "execution_count": 37,
      "outputs": []
    },
    {
      "cell_type": "markdown",
      "source": [
        "building and fitting the model\n",
        "\n"
      ],
      "metadata": {
        "id": "z2s5fDfI-akg"
      }
    },
    {
      "cell_type": "code",
      "source": [
        "model=reg_model()"
      ],
      "metadata": {
        "id": "Yq3mnPu4-i23"
      },
      "execution_count": 38,
      "outputs": []
    },
    {
      "cell_type": "code",
      "source": [
        "model.fit(X_train, y_train, epochs=50, verbose=1)"
      ],
      "metadata": {
        "colab": {
          "base_uri": "https://localhost:8080/"
        },
        "id": "HDQbbp8x-1Ej",
        "outputId": "a7af93d3-d820-4073-beec-a410df6f79fe"
      },
      "execution_count": 39,
      "outputs": [
        {
          "output_type": "stream",
          "name": "stdout",
          "text": [
            "Epoch 1/50\n",
            "23/23 [==============================] - 1s 2ms/step - loss: 1531.3782\n",
            "Epoch 2/50\n",
            "23/23 [==============================] - 0s 2ms/step - loss: 1514.3868\n",
            "Epoch 3/50\n",
            "23/23 [==============================] - 0s 2ms/step - loss: 1495.9496\n",
            "Epoch 4/50\n",
            "23/23 [==============================] - 0s 2ms/step - loss: 1477.2274\n",
            "Epoch 5/50\n",
            "23/23 [==============================] - 0s 2ms/step - loss: 1457.5071\n",
            "Epoch 6/50\n",
            "23/23 [==============================] - 0s 2ms/step - loss: 1436.9554\n",
            "Epoch 7/50\n",
            "23/23 [==============================] - 0s 2ms/step - loss: 1414.9966\n",
            "Epoch 8/50\n",
            "23/23 [==============================] - 0s 2ms/step - loss: 1392.3748\n",
            "Epoch 9/50\n",
            "23/23 [==============================] - 0s 2ms/step - loss: 1368.2482\n",
            "Epoch 10/50\n",
            "23/23 [==============================] - 0s 2ms/step - loss: 1343.1573\n",
            "Epoch 11/50\n",
            "23/23 [==============================] - 0s 2ms/step - loss: 1317.3423\n",
            "Epoch 12/50\n",
            "23/23 [==============================] - 0s 2ms/step - loss: 1289.5702\n",
            "Epoch 13/50\n",
            "23/23 [==============================] - 0s 2ms/step - loss: 1261.1323\n",
            "Epoch 14/50\n",
            "23/23 [==============================] - 0s 2ms/step - loss: 1231.6313\n",
            "Epoch 15/50\n",
            "23/23 [==============================] - 0s 2ms/step - loss: 1201.4384\n",
            "Epoch 16/50\n",
            "23/23 [==============================] - 0s 2ms/step - loss: 1169.7784\n",
            "Epoch 17/50\n",
            "23/23 [==============================] - 0s 2ms/step - loss: 1138.0674\n",
            "Epoch 18/50\n",
            "23/23 [==============================] - 0s 2ms/step - loss: 1105.1659\n",
            "Epoch 19/50\n",
            "23/23 [==============================] - 0s 2ms/step - loss: 1072.4342\n",
            "Epoch 20/50\n",
            "23/23 [==============================] - 0s 2ms/step - loss: 1038.8822\n",
            "Epoch 21/50\n",
            "23/23 [==============================] - 0s 2ms/step - loss: 1004.9511\n",
            "Epoch 22/50\n",
            "23/23 [==============================] - 0s 2ms/step - loss: 971.0026\n",
            "Epoch 23/50\n",
            "23/23 [==============================] - 0s 2ms/step - loss: 937.1880\n",
            "Epoch 24/50\n",
            "23/23 [==============================] - 0s 2ms/step - loss: 902.9180\n",
            "Epoch 25/50\n",
            "23/23 [==============================] - 0s 2ms/step - loss: 869.0487\n",
            "Epoch 26/50\n",
            "23/23 [==============================] - 0s 2ms/step - loss: 835.1062\n",
            "Epoch 27/50\n",
            "23/23 [==============================] - 0s 2ms/step - loss: 801.9542\n",
            "Epoch 28/50\n",
            "23/23 [==============================] - 0s 2ms/step - loss: 768.8647\n",
            "Epoch 29/50\n",
            "23/23 [==============================] - 0s 2ms/step - loss: 737.0254\n",
            "Epoch 30/50\n",
            "23/23 [==============================] - 0s 2ms/step - loss: 704.9568\n",
            "Epoch 31/50\n",
            "23/23 [==============================] - 0s 2ms/step - loss: 674.3784\n",
            "Epoch 32/50\n",
            "23/23 [==============================] - 0s 2ms/step - loss: 644.5025\n",
            "Epoch 33/50\n",
            "23/23 [==============================] - 0s 2ms/step - loss: 615.7617\n",
            "Epoch 34/50\n",
            "23/23 [==============================] - 0s 2ms/step - loss: 587.9272\n",
            "Epoch 35/50\n",
            "23/23 [==============================] - 0s 2ms/step - loss: 561.3682\n",
            "Epoch 36/50\n",
            "23/23 [==============================] - 0s 2ms/step - loss: 535.9061\n",
            "Epoch 37/50\n",
            "23/23 [==============================] - 0s 2ms/step - loss: 511.3288\n",
            "Epoch 38/50\n",
            "23/23 [==============================] - 0s 2ms/step - loss: 488.4181\n",
            "Epoch 39/50\n",
            "23/23 [==============================] - 0s 2ms/step - loss: 466.1011\n",
            "Epoch 40/50\n",
            "23/23 [==============================] - 0s 2ms/step - loss: 445.4607\n",
            "Epoch 41/50\n",
            "23/23 [==============================] - 0s 2ms/step - loss: 425.7076\n",
            "Epoch 42/50\n",
            "23/23 [==============================] - 0s 2ms/step - loss: 406.9225\n",
            "Epoch 43/50\n",
            "23/23 [==============================] - 0s 2ms/step - loss: 389.6727\n",
            "Epoch 44/50\n",
            "23/23 [==============================] - 0s 3ms/step - loss: 373.0464\n",
            "Epoch 45/50\n",
            "23/23 [==============================] - 0s 2ms/step - loss: 358.0143\n",
            "Epoch 46/50\n",
            "23/23 [==============================] - 0s 2ms/step - loss: 343.8412\n",
            "Epoch 47/50\n",
            "23/23 [==============================] - 0s 2ms/step - loss: 330.5569\n",
            "Epoch 48/50\n",
            "23/23 [==============================] - 0s 2ms/step - loss: 318.2151\n",
            "Epoch 49/50\n",
            "23/23 [==============================] - 0s 2ms/step - loss: 306.9353\n",
            "Epoch 50/50\n",
            "23/23 [==============================] - 0s 2ms/step - loss: 296.4798\n"
          ]
        },
        {
          "output_type": "execute_result",
          "data": {
            "text/plain": [
              "<keras.callbacks.History at 0x7f85fd412a00>"
            ]
          },
          "metadata": {},
          "execution_count": 39
        }
      ]
    },
    {
      "cell_type": "markdown",
      "source": [
        "Predicting X_test"
      ],
      "metadata": {
        "id": "yKIR4c1P_oO5"
      }
    },
    {
      "cell_type": "code",
      "source": [
        "yhat=model.predict(X_test)\n",
        "loss=mean_squared_error(y_test, yhat)\n",
        "mean=np.mean(loss)\n",
        "st_d=np.std(loss)\n",
        "\n",
        "print('mean squared error:', mean)\n",
        "print(\"standrad deviation:\", st_d)"
      ],
      "metadata": {
        "colab": {
          "base_uri": "https://localhost:8080/"
        },
        "id": "73pVOxcN_upc",
        "outputId": "fc00d3c3-0ed0-47eb-9751-04d07f90a217"
      },
      "execution_count": 40,
      "outputs": [
        {
          "output_type": "stream",
          "name": "stdout",
          "text": [
            "10/10 [==============================] - 0s 2ms/step\n",
            "mean squared error: 314.47890631143537\n",
            "standrad deviation: 0.0\n"
          ]
        }
      ]
    },
    {
      "cell_type": "markdown",
      "source": [
        "Repeat for 50 times and report MSE"
      ],
      "metadata": {
        "id": "jysU06g8AmVu"
      }
    },
    {
      "cell_type": "code",
      "source": [
        "total_mean_squared_errors = 50\n",
        "mean_squared_errors = []\n",
        "for i in range(0, total_mean_squared_errors):\n",
        "    X_train, X_test, y_train, y_test = train_test_split(normalized_predictors, target, test_size=0.3, random_state=i)\n",
        "    model.fit(X_train, y_train, epochs=50, verbose=0)\n",
        "    MSE = model.evaluate(X_test, y_test, verbose=0)\n",
        "    print(\"MSE \"+str(i+1)+\": \"+str(MSE))\n",
        "\n",
        "    y_pred = model.predict(X_test)\n",
        "    mean_square_error = mean_squared_error(y_test, y_pred)\n",
        "    mean_squared_errors.append(mean_square_error)\n",
        "\n",
        "mean_squared_errors = np.array(mean_squared_errors)\n",
        "mean = np.mean(mean_squared_errors)\n",
        "standard_deviation = np.std(mean_squared_errors)\n",
        "\n",
        "print('\\n')\n",
        "print(\"Below is the mean and standard deviation of \" +str(total_mean_squared_errors) + \" mean squared errors \")\n",
        "print(\"Mean: \"+str(mean))\n",
        "print(\"Standard Deviation: \"+str(standard_deviation))"
      ],
      "metadata": {
        "colab": {
          "base_uri": "https://localhost:8080/"
        },
        "id": "kZQcPVtwAr-5",
        "outputId": "4cd3710e-c858-4984-f521-393c6c4bf2e2"
      },
      "execution_count": 41,
      "outputs": [
        {
          "output_type": "stream",
          "name": "stdout",
          "text": [
            "MSE 1: 144.14793395996094\n",
            "10/10 [==============================] - 0s 2ms/step\n",
            "MSE 2: 125.34913635253906\n",
            "10/10 [==============================] - 0s 3ms/step\n",
            "MSE 3: 93.77790832519531\n",
            "10/10 [==============================] - 0s 2ms/step\n",
            "MSE 4: 90.54131317138672\n",
            "10/10 [==============================] - 0s 2ms/step\n",
            "MSE 5: 80.00391387939453\n",
            "10/10 [==============================] - 0s 2ms/step\n",
            "MSE 6: 82.98545837402344\n",
            "10/10 [==============================] - 0s 2ms/step\n",
            "MSE 7: 79.73184204101562\n",
            "10/10 [==============================] - 0s 2ms/step\n",
            "MSE 8: 57.943416595458984\n",
            "10/10 [==============================] - 0s 2ms/step\n",
            "MSE 9: 57.76470184326172\n",
            "10/10 [==============================] - 0s 2ms/step\n",
            "MSE 10: 47.65689468383789\n",
            "10/10 [==============================] - 0s 3ms/step\n",
            "MSE 11: 43.016510009765625\n",
            "10/10 [==============================] - 0s 2ms/step\n",
            "MSE 12: 37.74720001220703\n",
            "10/10 [==============================] - 0s 3ms/step\n",
            "MSE 13: 46.96232223510742\n",
            "10/10 [==============================] - 0s 2ms/step\n",
            "MSE 14: 47.30921173095703\n",
            "10/10 [==============================] - 0s 3ms/step\n",
            "MSE 15: 39.30717849731445\n",
            "10/10 [==============================] - 0s 2ms/step\n",
            "MSE 16: 34.19445037841797\n",
            "10/10 [==============================] - 0s 3ms/step\n",
            "MSE 17: 38.40365982055664\n",
            "10/10 [==============================] - 0s 2ms/step\n",
            "MSE 18: 36.160457611083984\n",
            "10/10 [==============================] - 0s 2ms/step\n",
            "MSE 19: 36.62556076049805\n",
            "10/10 [==============================] - 0s 3ms/step\n",
            "MSE 20: 37.89750289916992\n",
            "10/10 [==============================] - 0s 2ms/step\n",
            "MSE 21: 35.976531982421875\n",
            "10/10 [==============================] - 0s 2ms/step\n",
            "MSE 22: 33.415767669677734\n",
            "10/10 [==============================] - 0s 2ms/step\n",
            "MSE 23: 31.954105377197266\n",
            "10/10 [==============================] - 0s 2ms/step\n",
            "MSE 24: 35.463260650634766\n",
            "10/10 [==============================] - 0s 2ms/step\n",
            "MSE 25: 35.21408462524414\n",
            "10/10 [==============================] - 0s 2ms/step\n",
            "MSE 26: 38.07563781738281\n",
            "10/10 [==============================] - 0s 2ms/step\n",
            "MSE 27: 32.84794998168945\n",
            "10/10 [==============================] - 0s 2ms/step\n",
            "MSE 28: 33.2479248046875\n",
            "10/10 [==============================] - 0s 2ms/step\n",
            "MSE 29: 39.69114685058594\n",
            "10/10 [==============================] - 0s 2ms/step\n",
            "MSE 30: 37.642662048339844\n",
            "10/10 [==============================] - 0s 2ms/step\n",
            "MSE 31: 33.6428108215332\n",
            "10/10 [==============================] - 0s 2ms/step\n",
            "MSE 32: 33.01775360107422\n",
            "10/10 [==============================] - 0s 2ms/step\n",
            "MSE 33: 33.039649963378906\n",
            "10/10 [==============================] - 0s 2ms/step\n",
            "MSE 34: 33.91952133178711\n",
            "10/10 [==============================] - 0s 2ms/step\n",
            "MSE 35: 35.13934326171875\n",
            "10/10 [==============================] - 0s 2ms/step\n",
            "MSE 36: 39.518463134765625\n",
            "10/10 [==============================] - 0s 2ms/step\n",
            "MSE 37: 30.865718841552734\n",
            "10/10 [==============================] - 0s 2ms/step\n",
            "MSE 38: 37.166786193847656\n",
            "10/10 [==============================] - 0s 2ms/step\n",
            "MSE 39: 33.02827072143555\n",
            "10/10 [==============================] - 0s 2ms/step\n",
            "MSE 40: 29.040634155273438\n",
            "10/10 [==============================] - 0s 2ms/step\n",
            "MSE 41: 36.7993278503418\n",
            "10/10 [==============================] - 0s 3ms/step\n",
            "MSE 42: 29.861154556274414\n",
            "10/10 [==============================] - 0s 2ms/step\n",
            "MSE 43: 33.33616638183594\n",
            "10/10 [==============================] - 0s 2ms/step\n",
            "MSE 44: 37.18061447143555\n",
            "10/10 [==============================] - 0s 2ms/step\n",
            "MSE 45: 36.18089294433594\n",
            "10/10 [==============================] - 0s 2ms/step\n",
            "MSE 46: 36.432106018066406\n",
            "10/10 [==============================] - 0s 2ms/step\n",
            "MSE 47: 35.213096618652344\n",
            "10/10 [==============================] - 0s 2ms/step\n",
            "MSE 48: 33.92852783203125\n",
            "10/10 [==============================] - 0s 2ms/step\n",
            "MSE 49: 35.89181900024414\n",
            "10/10 [==============================] - 0s 2ms/step\n",
            "MSE 50: 36.78343963623047\n",
            "10/10 [==============================] - 0s 2ms/step\n",
            "\n",
            "\n",
            "Below is the mean and standard deviation of 50 mean squared errors \n",
            "Mean: 46.02083419154197\n",
            "Standard Deviation: 23.951467032926065\n"
          ]
        }
      ]
    },
    {
      "cell_type": "code",
      "source": [],
      "metadata": {
        "id": "1D1StSIXBCPv"
      },
      "execution_count": null,
      "outputs": []
    }
  ]
}