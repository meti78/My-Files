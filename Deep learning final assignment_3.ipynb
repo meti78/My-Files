{
  "nbformat": 4,
  "nbformat_minor": 0,
  "metadata": {
    "colab": {
      "provenance": [],
      "authorship_tag": "ABX9TyOicmwGwd1Wrae8jTAyLgZQ",
      "include_colab_link": true
    },
    "kernelspec": {
      "name": "python3",
      "display_name": "Python 3"
    },
    "language_info": {
      "name": "python"
    }
  },
  "cells": [
    {
      "cell_type": "markdown",
      "metadata": {
        "id": "view-in-github",
        "colab_type": "text"
      },
      "source": [
        "<a href=\"https://colab.research.google.com/github/meti78/My-Files/blob/main/Deep%20learning%20final%20assignment_3.ipynb\" target=\"_parent\"><img src=\"https://colab.research.google.com/assets/colab-badge.svg\" alt=\"Open In Colab\"/></a>"
      ]
    },
    {
      "cell_type": "code",
      "execution_count": 23,
      "metadata": {
        "id": "zGwkegWM6Z5b"
      },
      "outputs": [],
      "source": [
        "import pandas as pd\n",
        "import numpy as np\n",
        "import keras\n",
        "from keras.models import Sequential\n",
        "from keras.layers import Dense\n",
        "from sklearn.model_selection import train_test_split\n",
        "from sklearn.metrics import mean_squared_error"
      ]
    },
    {
      "cell_type": "code",
      "source": [
        "concrete_data = pd.read_csv('https://s3-api.us-geo.objectstorage.softlayer.net/cf-courses-data/CognitiveClass/DL0101EN/labs/data/concrete_data.csv')\n",
        "concrete_data.head()"
      ],
      "metadata": {
        "id": "obumsShE6d2b",
        "colab": {
          "base_uri": "https://localhost:8080/",
          "height": 305
        },
        "outputId": "c41bdbce-6194-44e7-aa39-a8badffb02a7"
      },
      "execution_count": 24,
      "outputs": [
        {
          "output_type": "execute_result",
          "data": {
            "text/plain": [
              "   Cement  Blast Furnace Slag  Fly Ash  Water  Superplasticizer  \\\n",
              "0   540.0                 0.0      0.0  162.0               2.5   \n",
              "1   540.0                 0.0      0.0  162.0               2.5   \n",
              "2   332.5               142.5      0.0  228.0               0.0   \n",
              "3   332.5               142.5      0.0  228.0               0.0   \n",
              "4   198.6               132.4      0.0  192.0               0.0   \n",
              "\n",
              "   Coarse Aggregate  Fine Aggregate  Age  Strength  \n",
              "0            1040.0           676.0   28     79.99  \n",
              "1            1055.0           676.0   28     61.89  \n",
              "2             932.0           594.0  270     40.27  \n",
              "3             932.0           594.0  365     41.05  \n",
              "4             978.4           825.5  360     44.30  "
            ],
            "text/html": [
              "\n",
              "  <div id=\"df-d13879a4-937d-402f-bb4e-e753f37730c6\">\n",
              "    <div class=\"colab-df-container\">\n",
              "      <div>\n",
              "<style scoped>\n",
              "    .dataframe tbody tr th:only-of-type {\n",
              "        vertical-align: middle;\n",
              "    }\n",
              "\n",
              "    .dataframe tbody tr th {\n",
              "        vertical-align: top;\n",
              "    }\n",
              "\n",
              "    .dataframe thead th {\n",
              "        text-align: right;\n",
              "    }\n",
              "</style>\n",
              "<table border=\"1\" class=\"dataframe\">\n",
              "  <thead>\n",
              "    <tr style=\"text-align: right;\">\n",
              "      <th></th>\n",
              "      <th>Cement</th>\n",
              "      <th>Blast Furnace Slag</th>\n",
              "      <th>Fly Ash</th>\n",
              "      <th>Water</th>\n",
              "      <th>Superplasticizer</th>\n",
              "      <th>Coarse Aggregate</th>\n",
              "      <th>Fine Aggregate</th>\n",
              "      <th>Age</th>\n",
              "      <th>Strength</th>\n",
              "    </tr>\n",
              "  </thead>\n",
              "  <tbody>\n",
              "    <tr>\n",
              "      <th>0</th>\n",
              "      <td>540.0</td>\n",
              "      <td>0.0</td>\n",
              "      <td>0.0</td>\n",
              "      <td>162.0</td>\n",
              "      <td>2.5</td>\n",
              "      <td>1040.0</td>\n",
              "      <td>676.0</td>\n",
              "      <td>28</td>\n",
              "      <td>79.99</td>\n",
              "    </tr>\n",
              "    <tr>\n",
              "      <th>1</th>\n",
              "      <td>540.0</td>\n",
              "      <td>0.0</td>\n",
              "      <td>0.0</td>\n",
              "      <td>162.0</td>\n",
              "      <td>2.5</td>\n",
              "      <td>1055.0</td>\n",
              "      <td>676.0</td>\n",
              "      <td>28</td>\n",
              "      <td>61.89</td>\n",
              "    </tr>\n",
              "    <tr>\n",
              "      <th>2</th>\n",
              "      <td>332.5</td>\n",
              "      <td>142.5</td>\n",
              "      <td>0.0</td>\n",
              "      <td>228.0</td>\n",
              "      <td>0.0</td>\n",
              "      <td>932.0</td>\n",
              "      <td>594.0</td>\n",
              "      <td>270</td>\n",
              "      <td>40.27</td>\n",
              "    </tr>\n",
              "    <tr>\n",
              "      <th>3</th>\n",
              "      <td>332.5</td>\n",
              "      <td>142.5</td>\n",
              "      <td>0.0</td>\n",
              "      <td>228.0</td>\n",
              "      <td>0.0</td>\n",
              "      <td>932.0</td>\n",
              "      <td>594.0</td>\n",
              "      <td>365</td>\n",
              "      <td>41.05</td>\n",
              "    </tr>\n",
              "    <tr>\n",
              "      <th>4</th>\n",
              "      <td>198.6</td>\n",
              "      <td>132.4</td>\n",
              "      <td>0.0</td>\n",
              "      <td>192.0</td>\n",
              "      <td>0.0</td>\n",
              "      <td>978.4</td>\n",
              "      <td>825.5</td>\n",
              "      <td>360</td>\n",
              "      <td>44.30</td>\n",
              "    </tr>\n",
              "  </tbody>\n",
              "</table>\n",
              "</div>\n",
              "      <button class=\"colab-df-convert\" onclick=\"convertToInteractive('df-d13879a4-937d-402f-bb4e-e753f37730c6')\"\n",
              "              title=\"Convert this dataframe to an interactive table.\"\n",
              "              style=\"display:none;\">\n",
              "        \n",
              "  <svg xmlns=\"http://www.w3.org/2000/svg\" height=\"24px\"viewBox=\"0 0 24 24\"\n",
              "       width=\"24px\">\n",
              "    <path d=\"M0 0h24v24H0V0z\" fill=\"none\"/>\n",
              "    <path d=\"M18.56 5.44l.94 2.06.94-2.06 2.06-.94-2.06-.94-.94-2.06-.94 2.06-2.06.94zm-11 1L8.5 8.5l.94-2.06 2.06-.94-2.06-.94L8.5 2.5l-.94 2.06-2.06.94zm10 10l.94 2.06.94-2.06 2.06-.94-2.06-.94-.94-2.06-.94 2.06-2.06.94z\"/><path d=\"M17.41 7.96l-1.37-1.37c-.4-.4-.92-.59-1.43-.59-.52 0-1.04.2-1.43.59L10.3 9.45l-7.72 7.72c-.78.78-.78 2.05 0 2.83L4 21.41c.39.39.9.59 1.41.59.51 0 1.02-.2 1.41-.59l7.78-7.78 2.81-2.81c.8-.78.8-2.07 0-2.86zM5.41 20L4 18.59l7.72-7.72 1.47 1.35L5.41 20z\"/>\n",
              "  </svg>\n",
              "      </button>\n",
              "      \n",
              "  <style>\n",
              "    .colab-df-container {\n",
              "      display:flex;\n",
              "      flex-wrap:wrap;\n",
              "      gap: 12px;\n",
              "    }\n",
              "\n",
              "    .colab-df-convert {\n",
              "      background-color: #E8F0FE;\n",
              "      border: none;\n",
              "      border-radius: 50%;\n",
              "      cursor: pointer;\n",
              "      display: none;\n",
              "      fill: #1967D2;\n",
              "      height: 32px;\n",
              "      padding: 0 0 0 0;\n",
              "      width: 32px;\n",
              "    }\n",
              "\n",
              "    .colab-df-convert:hover {\n",
              "      background-color: #E2EBFA;\n",
              "      box-shadow: 0px 1px 2px rgba(60, 64, 67, 0.3), 0px 1px 3px 1px rgba(60, 64, 67, 0.15);\n",
              "      fill: #174EA6;\n",
              "    }\n",
              "\n",
              "    [theme=dark] .colab-df-convert {\n",
              "      background-color: #3B4455;\n",
              "      fill: #D2E3FC;\n",
              "    }\n",
              "\n",
              "    [theme=dark] .colab-df-convert:hover {\n",
              "      background-color: #434B5C;\n",
              "      box-shadow: 0px 1px 3px 1px rgba(0, 0, 0, 0.15);\n",
              "      filter: drop-shadow(0px 1px 2px rgba(0, 0, 0, 0.3));\n",
              "      fill: #FFFFFF;\n",
              "    }\n",
              "  </style>\n",
              "\n",
              "      <script>\n",
              "        const buttonEl =\n",
              "          document.querySelector('#df-d13879a4-937d-402f-bb4e-e753f37730c6 button.colab-df-convert');\n",
              "        buttonEl.style.display =\n",
              "          google.colab.kernel.accessAllowed ? 'block' : 'none';\n",
              "\n",
              "        async function convertToInteractive(key) {\n",
              "          const element = document.querySelector('#df-d13879a4-937d-402f-bb4e-e753f37730c6');\n",
              "          const dataTable =\n",
              "            await google.colab.kernel.invokeFunction('convertToInteractive',\n",
              "                                                     [key], {});\n",
              "          if (!dataTable) return;\n",
              "\n",
              "          const docLinkHtml = 'Like what you see? Visit the ' +\n",
              "            '<a target=\"_blank\" href=https://colab.research.google.com/notebooks/data_table.ipynb>data table notebook</a>'\n",
              "            + ' to learn more about interactive tables.';\n",
              "          element.innerHTML = '';\n",
              "          dataTable['output_type'] = 'display_data';\n",
              "          await google.colab.output.renderOutput(dataTable, element);\n",
              "          const docLink = document.createElement('div');\n",
              "          docLink.innerHTML = docLinkHtml;\n",
              "          element.appendChild(docLink);\n",
              "        }\n",
              "      </script>\n",
              "    </div>\n",
              "  </div>\n",
              "  "
            ]
          },
          "metadata": {},
          "execution_count": 24
        }
      ]
    },
    {
      "cell_type": "code",
      "source": [
        "concrete_data_columns = concrete_data.columns\n",
        "\n",
        "predictors = concrete_data[concrete_data_columns[concrete_data_columns != 'Strength']] # all columns except Strength\n",
        "target = concrete_data['Strength'] # Strength column"
      ],
      "metadata": {
        "id": "tnlvQkiV8fjK"
      },
      "execution_count": 25,
      "outputs": []
    },
    {
      "cell_type": "markdown",
      "source": [
        "normalizing data"
      ],
      "metadata": {
        "id": "VfX0Ns47FX14"
      }
    },
    {
      "cell_type": "code",
      "source": [
        "normalized_predictors = (predictors - predictors.mean()) / predictors.std()"
      ],
      "metadata": {
        "id": "xO140iVrFdMW"
      },
      "execution_count": 34,
      "outputs": []
    },
    {
      "cell_type": "markdown",
      "source": [
        "Split dataset into training and test"
      ],
      "metadata": {
        "id": "36xQCfJn9ay_"
      }
    },
    {
      "cell_type": "code",
      "source": [
        "X_train, X_test, y_train, y_test = train_test_split(normalized_predictors, target, test_size=0.3, random_state=4)"
      ],
      "metadata": {
        "id": "iVIjlgrY8mj9"
      },
      "execution_count": 35,
      "outputs": []
    },
    {
      "cell_type": "markdown",
      "source": [
        "Number of predictors"
      ],
      "metadata": {
        "id": "-qAB9m8u9mCi"
      }
    },
    {
      "cell_type": "code",
      "source": [
        "n_cols = predictors.shape[1]\n",
        "print('Number of predictors:', n_cols)"
      ],
      "metadata": {
        "colab": {
          "base_uri": "https://localhost:8080/"
        },
        "id": "pSKBFff89s8M",
        "outputId": "f23e70e3-d34e-4862-d5f0-d046305ae396"
      },
      "execution_count": 36,
      "outputs": [
        {
          "output_type": "stream",
          "name": "stdout",
          "text": [
            "Number of predictors: 8\n"
          ]
        }
      ]
    },
    {
      "cell_type": "markdown",
      "source": [
        "Defining the regression model"
      ],
      "metadata": {
        "id": "8c8oppi994zL"
      }
    },
    {
      "cell_type": "code",
      "source": [
        "def reg_model():\n",
        "  model = Sequential()\n",
        "  model.add(Dense(10, activation='relu', input_shape=(n_cols,)))\n",
        "  model.add(Dense(1))\n",
        "  model.compile(optimizer='adam', loss='mean_squared_error')\n",
        "  return model"
      ],
      "metadata": {
        "id": "rnMLuhw499TT"
      },
      "execution_count": 37,
      "outputs": []
    },
    {
      "cell_type": "markdown",
      "source": [
        "building and fitting the model\n",
        "\n"
      ],
      "metadata": {
        "id": "z2s5fDfI-akg"
      }
    },
    {
      "cell_type": "code",
      "source": [
        "model=reg_model()"
      ],
      "metadata": {
        "id": "Yq3mnPu4-i23"
      },
      "execution_count": 38,
      "outputs": []
    },
    {
      "cell_type": "code",
      "source": [
        "model.fit(X_train, y_train, epochs=100, verbose=1)"
      ],
      "metadata": {
        "colab": {
          "base_uri": "https://localhost:8080/"
        },
        "id": "HDQbbp8x-1Ej",
        "outputId": "a2632fef-7aba-49b9-cb46-12f9f790008d"
      },
      "execution_count": 42,
      "outputs": [
        {
          "output_type": "stream",
          "name": "stdout",
          "text": [
            "Epoch 1/100\n",
            "23/23 [==============================] - 0s 4ms/step - loss: 28.5824\n",
            "Epoch 2/100\n",
            "23/23 [==============================] - 0s 5ms/step - loss: 28.5310\n",
            "Epoch 3/100\n",
            "23/23 [==============================] - 0s 6ms/step - loss: 28.5440\n",
            "Epoch 4/100\n",
            "23/23 [==============================] - 0s 6ms/step - loss: 28.5468\n",
            "Epoch 5/100\n",
            "23/23 [==============================] - 0s 5ms/step - loss: 28.5169\n",
            "Epoch 6/100\n",
            "23/23 [==============================] - 0s 4ms/step - loss: 28.5194\n",
            "Epoch 7/100\n",
            "23/23 [==============================] - 0s 7ms/step - loss: 28.5424\n",
            "Epoch 8/100\n",
            "23/23 [==============================] - 0s 6ms/step - loss: 28.4992\n",
            "Epoch 9/100\n",
            "23/23 [==============================] - 0s 5ms/step - loss: 28.5114\n",
            "Epoch 10/100\n",
            "23/23 [==============================] - 0s 4ms/step - loss: 28.4796\n",
            "Epoch 11/100\n",
            "23/23 [==============================] - 0s 8ms/step - loss: 28.5763\n",
            "Epoch 12/100\n",
            "23/23 [==============================] - 0s 6ms/step - loss: 28.5204\n",
            "Epoch 13/100\n",
            "23/23 [==============================] - 0s 7ms/step - loss: 28.5076\n",
            "Epoch 14/100\n",
            "23/23 [==============================] - 0s 5ms/step - loss: 28.4958\n",
            "Epoch 15/100\n",
            "23/23 [==============================] - 0s 7ms/step - loss: 28.5283\n",
            "Epoch 16/100\n",
            "23/23 [==============================] - 0s 6ms/step - loss: 28.5442\n",
            "Epoch 17/100\n",
            "23/23 [==============================] - 0s 3ms/step - loss: 28.4711\n",
            "Epoch 18/100\n",
            "23/23 [==============================] - 0s 2ms/step - loss: 28.4954\n",
            "Epoch 19/100\n",
            "23/23 [==============================] - 0s 2ms/step - loss: 28.4943\n",
            "Epoch 20/100\n",
            "23/23 [==============================] - 0s 3ms/step - loss: 28.4775\n",
            "Epoch 21/100\n",
            "23/23 [==============================] - 0s 3ms/step - loss: 28.4978\n",
            "Epoch 22/100\n",
            "23/23 [==============================] - 0s 3ms/step - loss: 28.5486\n",
            "Epoch 23/100\n",
            "23/23 [==============================] - 0s 3ms/step - loss: 28.4808\n",
            "Epoch 24/100\n",
            "23/23 [==============================] - 0s 3ms/step - loss: 28.5060\n",
            "Epoch 25/100\n",
            "23/23 [==============================] - 0s 3ms/step - loss: 28.5196\n",
            "Epoch 26/100\n",
            "23/23 [==============================] - 0s 3ms/step - loss: 28.4761\n",
            "Epoch 27/100\n",
            "23/23 [==============================] - 0s 4ms/step - loss: 28.5222\n",
            "Epoch 28/100\n",
            "23/23 [==============================] - 0s 3ms/step - loss: 28.4678\n",
            "Epoch 29/100\n",
            "23/23 [==============================] - 0s 4ms/step - loss: 28.4646\n",
            "Epoch 30/100\n",
            "23/23 [==============================] - 0s 3ms/step - loss: 28.4475\n",
            "Epoch 31/100\n",
            "23/23 [==============================] - 0s 3ms/step - loss: 28.4979\n",
            "Epoch 32/100\n",
            "23/23 [==============================] - 0s 3ms/step - loss: 28.4790\n",
            "Epoch 33/100\n",
            "23/23 [==============================] - 0s 3ms/step - loss: 28.4230\n",
            "Epoch 34/100\n",
            "23/23 [==============================] - 0s 3ms/step - loss: 28.4492\n",
            "Epoch 35/100\n",
            "23/23 [==============================] - 0s 4ms/step - loss: 28.4297\n",
            "Epoch 36/100\n",
            "23/23 [==============================] - 0s 4ms/step - loss: 28.4794\n",
            "Epoch 37/100\n",
            "23/23 [==============================] - 0s 3ms/step - loss: 28.4308\n",
            "Epoch 38/100\n",
            "23/23 [==============================] - 0s 3ms/step - loss: 28.4506\n",
            "Epoch 39/100\n",
            "23/23 [==============================] - 0s 3ms/step - loss: 28.4475\n",
            "Epoch 40/100\n",
            "23/23 [==============================] - 0s 3ms/step - loss: 28.4059\n",
            "Epoch 41/100\n",
            "23/23 [==============================] - 0s 3ms/step - loss: 28.4320\n",
            "Epoch 42/100\n",
            "23/23 [==============================] - 0s 3ms/step - loss: 28.5086\n",
            "Epoch 43/100\n",
            "23/23 [==============================] - 0s 3ms/step - loss: 28.4778\n",
            "Epoch 44/100\n",
            "23/23 [==============================] - 0s 3ms/step - loss: 28.5070\n",
            "Epoch 45/100\n",
            "23/23 [==============================] - 0s 3ms/step - loss: 28.4213\n",
            "Epoch 46/100\n",
            "23/23 [==============================] - 0s 3ms/step - loss: 28.4146\n",
            "Epoch 47/100\n",
            "23/23 [==============================] - 0s 3ms/step - loss: 28.3950\n",
            "Epoch 48/100\n",
            "23/23 [==============================] - 0s 3ms/step - loss: 28.4016\n",
            "Epoch 49/100\n",
            "23/23 [==============================] - 0s 3ms/step - loss: 28.4654\n",
            "Epoch 50/100\n",
            "23/23 [==============================] - 0s 3ms/step - loss: 28.3828\n",
            "Epoch 51/100\n",
            "23/23 [==============================] - 0s 3ms/step - loss: 28.4542\n",
            "Epoch 52/100\n",
            "23/23 [==============================] - 0s 3ms/step - loss: 28.4376\n",
            "Epoch 53/100\n",
            "23/23 [==============================] - 0s 3ms/step - loss: 28.4693\n",
            "Epoch 54/100\n",
            "23/23 [==============================] - 0s 3ms/step - loss: 28.4053\n",
            "Epoch 55/100\n",
            "23/23 [==============================] - 0s 4ms/step - loss: 28.4934\n",
            "Epoch 56/100\n",
            "23/23 [==============================] - 0s 3ms/step - loss: 28.5108\n",
            "Epoch 57/100\n",
            "23/23 [==============================] - 0s 3ms/step - loss: 28.4246\n",
            "Epoch 58/100\n",
            "23/23 [==============================] - 0s 3ms/step - loss: 28.3551\n",
            "Epoch 59/100\n",
            "23/23 [==============================] - 0s 3ms/step - loss: 28.4157\n",
            "Epoch 60/100\n",
            "23/23 [==============================] - 0s 3ms/step - loss: 28.3522\n",
            "Epoch 61/100\n",
            "23/23 [==============================] - 0s 3ms/step - loss: 28.3709\n",
            "Epoch 62/100\n",
            "23/23 [==============================] - 0s 3ms/step - loss: 28.3906\n",
            "Epoch 63/100\n",
            "23/23 [==============================] - 0s 2ms/step - loss: 28.3864\n",
            "Epoch 64/100\n",
            "23/23 [==============================] - 0s 2ms/step - loss: 28.4396\n",
            "Epoch 65/100\n",
            "23/23 [==============================] - 0s 2ms/step - loss: 28.3433\n",
            "Epoch 66/100\n",
            "23/23 [==============================] - 0s 2ms/step - loss: 28.3927\n",
            "Epoch 67/100\n",
            "23/23 [==============================] - 0s 2ms/step - loss: 28.3867\n",
            "Epoch 68/100\n",
            "23/23 [==============================] - 0s 2ms/step - loss: 28.4119\n",
            "Epoch 69/100\n",
            "23/23 [==============================] - 0s 2ms/step - loss: 28.3672\n",
            "Epoch 70/100\n",
            "23/23 [==============================] - 0s 2ms/step - loss: 28.3594\n",
            "Epoch 71/100\n",
            "23/23 [==============================] - 0s 2ms/step - loss: 28.4068\n",
            "Epoch 72/100\n",
            "23/23 [==============================] - 0s 2ms/step - loss: 28.4749\n",
            "Epoch 73/100\n",
            "23/23 [==============================] - 0s 2ms/step - loss: 28.3416\n",
            "Epoch 74/100\n",
            "23/23 [==============================] - 0s 2ms/step - loss: 28.4730\n",
            "Epoch 75/100\n",
            "23/23 [==============================] - 0s 2ms/step - loss: 28.3279\n",
            "Epoch 76/100\n",
            "23/23 [==============================] - 0s 2ms/step - loss: 28.3696\n",
            "Epoch 77/100\n",
            "23/23 [==============================] - 0s 2ms/step - loss: 28.3388\n",
            "Epoch 78/100\n",
            "23/23 [==============================] - 0s 2ms/step - loss: 28.3350\n",
            "Epoch 79/100\n",
            "23/23 [==============================] - 0s 2ms/step - loss: 28.3317\n",
            "Epoch 80/100\n",
            "23/23 [==============================] - 0s 2ms/step - loss: 28.4019\n",
            "Epoch 81/100\n",
            "23/23 [==============================] - 0s 2ms/step - loss: 28.4157\n",
            "Epoch 82/100\n",
            "23/23 [==============================] - 0s 2ms/step - loss: 28.3823\n",
            "Epoch 83/100\n",
            "23/23 [==============================] - 0s 2ms/step - loss: 28.3236\n",
            "Epoch 84/100\n",
            "23/23 [==============================] - 0s 2ms/step - loss: 28.3986\n",
            "Epoch 85/100\n",
            "23/23 [==============================] - 0s 2ms/step - loss: 28.3709\n",
            "Epoch 86/100\n",
            "23/23 [==============================] - 0s 2ms/step - loss: 28.3179\n",
            "Epoch 87/100\n",
            "23/23 [==============================] - 0s 2ms/step - loss: 28.3189\n",
            "Epoch 88/100\n",
            "23/23 [==============================] - 0s 2ms/step - loss: 28.3653\n",
            "Epoch 89/100\n",
            "23/23 [==============================] - 0s 2ms/step - loss: 28.3684\n",
            "Epoch 90/100\n",
            "23/23 [==============================] - 0s 3ms/step - loss: 28.3443\n",
            "Epoch 91/100\n",
            "23/23 [==============================] - 0s 2ms/step - loss: 28.3179\n",
            "Epoch 92/100\n",
            "23/23 [==============================] - 0s 2ms/step - loss: 28.3198\n",
            "Epoch 93/100\n",
            "23/23 [==============================] - 0s 2ms/step - loss: 28.3964\n",
            "Epoch 94/100\n",
            "23/23 [==============================] - 0s 2ms/step - loss: 28.2838\n",
            "Epoch 95/100\n",
            "23/23 [==============================] - 0s 2ms/step - loss: 28.3724\n",
            "Epoch 96/100\n",
            "23/23 [==============================] - 0s 2ms/step - loss: 28.3886\n",
            "Epoch 97/100\n",
            "23/23 [==============================] - 0s 2ms/step - loss: 28.3678\n",
            "Epoch 98/100\n",
            "23/23 [==============================] - 0s 2ms/step - loss: 28.3201\n",
            "Epoch 99/100\n",
            "23/23 [==============================] - 0s 2ms/step - loss: 28.3518\n",
            "Epoch 100/100\n",
            "23/23 [==============================] - 0s 2ms/step - loss: 28.3197\n"
          ]
        },
        {
          "output_type": "execute_result",
          "data": {
            "text/plain": [
              "<keras.callbacks.History at 0x7f85fdfcaca0>"
            ]
          },
          "metadata": {},
          "execution_count": 42
        }
      ]
    },
    {
      "cell_type": "markdown",
      "source": [
        "Predicting X_test"
      ],
      "metadata": {
        "id": "yKIR4c1P_oO5"
      }
    },
    {
      "cell_type": "code",
      "source": [
        "yhat=model.predict(X_test)\n",
        "loss=mean_squared_error(y_test, yhat)\n",
        "mean=np.mean(loss)\n",
        "st_d=np.std(loss)\n",
        "\n",
        "print('mean squared error:', mean)\n",
        "print(\"standrad deviation:\", st_d)"
      ],
      "metadata": {
        "colab": {
          "base_uri": "https://localhost:8080/"
        },
        "id": "73pVOxcN_upc",
        "outputId": "7df19d97-ac67-47f6-eaf8-cf4607c6c658"
      },
      "execution_count": 43,
      "outputs": [
        {
          "output_type": "stream",
          "name": "stdout",
          "text": [
            "10/10 [==============================] - 0s 2ms/step\n",
            "mean squared error: 37.59287267652187\n",
            "standrad deviation: 0.0\n"
          ]
        }
      ]
    },
    {
      "cell_type": "markdown",
      "source": [
        "Repeat for 50 times and report MSE"
      ],
      "metadata": {
        "id": "jysU06g8AmVu"
      }
    },
    {
      "cell_type": "code",
      "source": [
        "total_mean_squared_errors = 50\n",
        "mean_squared_errors = []\n",
        "for i in range(0, total_mean_squared_errors):\n",
        "    X_train, X_test, y_train, y_test = train_test_split(normalized_predictors, target, test_size=0.3, random_state=i)\n",
        "    model.fit(X_train, y_train, epochs=100, verbose=0)\n",
        "    MSE = model.evaluate(X_test, y_test, verbose=0)\n",
        "    print(\"MSE \"+str(i+1)+\": \"+str(MSE))\n",
        "\n",
        "    y_pred = model.predict(X_test)\n",
        "    mean_square_error = mean_squared_error(y_test, y_pred)\n",
        "    mean_squared_errors.append(mean_square_error)\n",
        "\n",
        "mean_squared_errors = np.array(mean_squared_errors)\n",
        "mean = np.mean(mean_squared_errors)\n",
        "standard_deviation = np.std(mean_squared_errors)\n",
        "\n",
        "print('\\n')\n",
        "print(\"Below is the mean and standard deviation of \" +str(total_mean_squared_errors) + \" mean squared errors \")\n",
        "print(\"Mean: \"+str(mean))\n",
        "print(\"Standard Deviation: \"+str(standard_deviation))"
      ],
      "metadata": {
        "colab": {
          "base_uri": "https://localhost:8080/"
        },
        "id": "kZQcPVtwAr-5",
        "outputId": "98d196a0-75ec-4a35-bca9-58220674edad"
      },
      "execution_count": 44,
      "outputs": [
        {
          "output_type": "stream",
          "name": "stdout",
          "text": [
            "MSE 1: 33.60020446777344\n",
            "10/10 [==============================] - 0s 2ms/step\n",
            "MSE 2: 37.93253707885742\n",
            "10/10 [==============================] - 0s 2ms/step\n",
            "MSE 3: 27.40227699279785\n",
            "10/10 [==============================] - 0s 2ms/step\n",
            "MSE 4: 34.11310577392578\n",
            "10/10 [==============================] - 0s 2ms/step\n",
            "MSE 5: 33.65079879760742\n",
            "10/10 [==============================] - 0s 2ms/step\n",
            "MSE 6: 32.842044830322266\n",
            "10/10 [==============================] - 0s 2ms/step\n",
            "MSE 7: 37.142154693603516\n",
            "10/10 [==============================] - 0s 2ms/step\n",
            "MSE 8: 30.035335540771484\n",
            "10/10 [==============================] - 0s 2ms/step\n",
            "MSE 9: 31.708383560180664\n",
            "10/10 [==============================] - 0s 2ms/step\n",
            "MSE 10: 30.600778579711914\n",
            "10/10 [==============================] - 0s 2ms/step\n",
            "MSE 11: 33.621089935302734\n",
            "10/10 [==============================] - 0s 2ms/step\n",
            "MSE 12: 28.98821449279785\n",
            "10/10 [==============================] - 0s 2ms/step\n",
            "MSE 13: 33.811676025390625\n",
            "10/10 [==============================] - 0s 2ms/step\n",
            "MSE 14: 36.87894058227539\n",
            "10/10 [==============================] - 0s 2ms/step\n",
            "MSE 15: 31.31208038330078\n",
            "10/10 [==============================] - 0s 2ms/step\n",
            "MSE 16: 24.44074058532715\n",
            "10/10 [==============================] - 0s 2ms/step\n",
            "MSE 17: 30.44186782836914\n",
            "10/10 [==============================] - 0s 2ms/step\n",
            "MSE 18: 31.689172744750977\n",
            "10/10 [==============================] - 0s 2ms/step\n",
            "MSE 19: 28.346458435058594\n",
            "10/10 [==============================] - 0s 2ms/step\n",
            "MSE 20: 32.772525787353516\n",
            "10/10 [==============================] - 0s 2ms/step\n",
            "MSE 21: 28.138538360595703\n",
            "10/10 [==============================] - 0s 2ms/step\n",
            "MSE 22: 28.307804107666016\n",
            "10/10 [==============================] - 0s 2ms/step\n",
            "MSE 23: 26.409156799316406\n",
            "10/10 [==============================] - 0s 2ms/step\n",
            "MSE 24: 29.82434844970703\n",
            "10/10 [==============================] - 0s 2ms/step\n",
            "MSE 25: 31.57248306274414\n",
            "10/10 [==============================] - 0s 2ms/step\n",
            "MSE 26: 32.589378356933594\n",
            "10/10 [==============================] - 0s 2ms/step\n",
            "MSE 27: 26.44200325012207\n",
            "10/10 [==============================] - 0s 3ms/step\n",
            "MSE 28: 28.02126693725586\n",
            "10/10 [==============================] - 0s 2ms/step\n",
            "MSE 29: 33.46924591064453\n",
            "10/10 [==============================] - 0s 3ms/step\n",
            "MSE 30: 30.48965835571289\n",
            "10/10 [==============================] - 0s 2ms/step\n",
            "MSE 31: 29.262939453125\n",
            "10/10 [==============================] - 0s 2ms/step\n",
            "MSE 32: 26.212587356567383\n",
            "10/10 [==============================] - 0s 2ms/step\n",
            "MSE 33: 24.80064582824707\n",
            "10/10 [==============================] - 0s 2ms/step\n",
            "MSE 34: 28.877948760986328\n",
            "10/10 [==============================] - 0s 2ms/step\n",
            "MSE 35: 31.865995407104492\n",
            "10/10 [==============================] - 0s 2ms/step\n",
            "MSE 36: 31.283390045166016\n",
            "10/10 [==============================] - 0s 2ms/step\n",
            "MSE 37: 25.49510383605957\n",
            "10/10 [==============================] - 0s 2ms/step\n",
            "MSE 38: 31.932294845581055\n",
            "10/10 [==============================] - 0s 2ms/step\n",
            "MSE 39: 30.008684158325195\n",
            "10/10 [==============================] - 0s 2ms/step\n",
            "MSE 40: 25.503522872924805\n",
            "10/10 [==============================] - 0s 2ms/step\n",
            "MSE 41: 33.813316345214844\n",
            "10/10 [==============================] - 0s 2ms/step\n",
            "MSE 42: 27.527502059936523\n",
            "10/10 [==============================] - 0s 2ms/step\n",
            "MSE 43: 28.867422103881836\n",
            "10/10 [==============================] - 0s 3ms/step\n",
            "MSE 44: 33.91392517089844\n",
            "10/10 [==============================] - 0s 2ms/step\n",
            "MSE 45: 32.6087532043457\n",
            "10/10 [==============================] - 0s 2ms/step\n",
            "MSE 46: 32.69083023071289\n",
            "10/10 [==============================] - 0s 2ms/step\n",
            "MSE 47: 29.73503303527832\n",
            "10/10 [==============================] - 0s 2ms/step\n",
            "MSE 48: 30.570096969604492\n",
            "10/10 [==============================] - 0s 2ms/step\n",
            "MSE 49: 33.23945236206055\n",
            "10/10 [==============================] - 0s 3ms/step\n",
            "MSE 50: 31.63524627685547\n",
            "10/10 [==============================] - 0s 2ms/step\n",
            "\n",
            "\n",
            "Below is the mean and standard deviation of 50 mean squared errors \n",
            "Mean: 30.728779477745952\n",
            "Standard Deviation: 3.116012242104521\n"
          ]
        }
      ]
    },
    {
      "cell_type": "code",
      "source": [],
      "metadata": {
        "id": "1D1StSIXBCPv"
      },
      "execution_count": null,
      "outputs": []
    }
  ]
}