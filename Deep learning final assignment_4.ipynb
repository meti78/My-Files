{
  "nbformat": 4,
  "nbformat_minor": 0,
  "metadata": {
    "colab": {
      "provenance": [],
      "authorship_tag": "ABX9TyORj1RMRUbxAV3XfMw5JK4O",
      "include_colab_link": true
    },
    "kernelspec": {
      "name": "python3",
      "display_name": "Python 3"
    },
    "language_info": {
      "name": "python"
    }
  },
  "cells": [
    {
      "cell_type": "markdown",
      "metadata": {
        "id": "view-in-github",
        "colab_type": "text"
      },
      "source": [
        "<a href=\"https://colab.research.google.com/github/meti78/My-Files/blob/main/Deep%20learning%20final%20assignment_4.ipynb\" target=\"_parent\"><img src=\"https://colab.research.google.com/assets/colab-badge.svg\" alt=\"Open In Colab\"/></a>"
      ]
    },
    {
      "cell_type": "code",
      "execution_count": 23,
      "metadata": {
        "id": "zGwkegWM6Z5b"
      },
      "outputs": [],
      "source": [
        "import pandas as pd\n",
        "import numpy as np\n",
        "import keras\n",
        "from keras.models import Sequential\n",
        "from keras.layers import Dense\n",
        "from sklearn.model_selection import train_test_split\n",
        "from sklearn.metrics import mean_squared_error"
      ]
    },
    {
      "cell_type": "code",
      "source": [
        "concrete_data = pd.read_csv('https://s3-api.us-geo.objectstorage.softlayer.net/cf-courses-data/CognitiveClass/DL0101EN/labs/data/concrete_data.csv')\n",
        "concrete_data.head()"
      ],
      "metadata": {
        "id": "obumsShE6d2b",
        "colab": {
          "base_uri": "https://localhost:8080/",
          "height": 305
        },
        "outputId": "c41bdbce-6194-44e7-aa39-a8badffb02a7"
      },
      "execution_count": 24,
      "outputs": [
        {
          "output_type": "execute_result",
          "data": {
            "text/plain": [
              "   Cement  Blast Furnace Slag  Fly Ash  Water  Superplasticizer  \\\n",
              "0   540.0                 0.0      0.0  162.0               2.5   \n",
              "1   540.0                 0.0      0.0  162.0               2.5   \n",
              "2   332.5               142.5      0.0  228.0               0.0   \n",
              "3   332.5               142.5      0.0  228.0               0.0   \n",
              "4   198.6               132.4      0.0  192.0               0.0   \n",
              "\n",
              "   Coarse Aggregate  Fine Aggregate  Age  Strength  \n",
              "0            1040.0           676.0   28     79.99  \n",
              "1            1055.0           676.0   28     61.89  \n",
              "2             932.0           594.0  270     40.27  \n",
              "3             932.0           594.0  365     41.05  \n",
              "4             978.4           825.5  360     44.30  "
            ],
            "text/html": [
              "\n",
              "  <div id=\"df-d13879a4-937d-402f-bb4e-e753f37730c6\">\n",
              "    <div class=\"colab-df-container\">\n",
              "      <div>\n",
              "<style scoped>\n",
              "    .dataframe tbody tr th:only-of-type {\n",
              "        vertical-align: middle;\n",
              "    }\n",
              "\n",
              "    .dataframe tbody tr th {\n",
              "        vertical-align: top;\n",
              "    }\n",
              "\n",
              "    .dataframe thead th {\n",
              "        text-align: right;\n",
              "    }\n",
              "</style>\n",
              "<table border=\"1\" class=\"dataframe\">\n",
              "  <thead>\n",
              "    <tr style=\"text-align: right;\">\n",
              "      <th></th>\n",
              "      <th>Cement</th>\n",
              "      <th>Blast Furnace Slag</th>\n",
              "      <th>Fly Ash</th>\n",
              "      <th>Water</th>\n",
              "      <th>Superplasticizer</th>\n",
              "      <th>Coarse Aggregate</th>\n",
              "      <th>Fine Aggregate</th>\n",
              "      <th>Age</th>\n",
              "      <th>Strength</th>\n",
              "    </tr>\n",
              "  </thead>\n",
              "  <tbody>\n",
              "    <tr>\n",
              "      <th>0</th>\n",
              "      <td>540.0</td>\n",
              "      <td>0.0</td>\n",
              "      <td>0.0</td>\n",
              "      <td>162.0</td>\n",
              "      <td>2.5</td>\n",
              "      <td>1040.0</td>\n",
              "      <td>676.0</td>\n",
              "      <td>28</td>\n",
              "      <td>79.99</td>\n",
              "    </tr>\n",
              "    <tr>\n",
              "      <th>1</th>\n",
              "      <td>540.0</td>\n",
              "      <td>0.0</td>\n",
              "      <td>0.0</td>\n",
              "      <td>162.0</td>\n",
              "      <td>2.5</td>\n",
              "      <td>1055.0</td>\n",
              "      <td>676.0</td>\n",
              "      <td>28</td>\n",
              "      <td>61.89</td>\n",
              "    </tr>\n",
              "    <tr>\n",
              "      <th>2</th>\n",
              "      <td>332.5</td>\n",
              "      <td>142.5</td>\n",
              "      <td>0.0</td>\n",
              "      <td>228.0</td>\n",
              "      <td>0.0</td>\n",
              "      <td>932.0</td>\n",
              "      <td>594.0</td>\n",
              "      <td>270</td>\n",
              "      <td>40.27</td>\n",
              "    </tr>\n",
              "    <tr>\n",
              "      <th>3</th>\n",
              "      <td>332.5</td>\n",
              "      <td>142.5</td>\n",
              "      <td>0.0</td>\n",
              "      <td>228.0</td>\n",
              "      <td>0.0</td>\n",
              "      <td>932.0</td>\n",
              "      <td>594.0</td>\n",
              "      <td>365</td>\n",
              "      <td>41.05</td>\n",
              "    </tr>\n",
              "    <tr>\n",
              "      <th>4</th>\n",
              "      <td>198.6</td>\n",
              "      <td>132.4</td>\n",
              "      <td>0.0</td>\n",
              "      <td>192.0</td>\n",
              "      <td>0.0</td>\n",
              "      <td>978.4</td>\n",
              "      <td>825.5</td>\n",
              "      <td>360</td>\n",
              "      <td>44.30</td>\n",
              "    </tr>\n",
              "  </tbody>\n",
              "</table>\n",
              "</div>\n",
              "      <button class=\"colab-df-convert\" onclick=\"convertToInteractive('df-d13879a4-937d-402f-bb4e-e753f37730c6')\"\n",
              "              title=\"Convert this dataframe to an interactive table.\"\n",
              "              style=\"display:none;\">\n",
              "        \n",
              "  <svg xmlns=\"http://www.w3.org/2000/svg\" height=\"24px\"viewBox=\"0 0 24 24\"\n",
              "       width=\"24px\">\n",
              "    <path d=\"M0 0h24v24H0V0z\" fill=\"none\"/>\n",
              "    <path d=\"M18.56 5.44l.94 2.06.94-2.06 2.06-.94-2.06-.94-.94-2.06-.94 2.06-2.06.94zm-11 1L8.5 8.5l.94-2.06 2.06-.94-2.06-.94L8.5 2.5l-.94 2.06-2.06.94zm10 10l.94 2.06.94-2.06 2.06-.94-2.06-.94-.94-2.06-.94 2.06-2.06.94z\"/><path d=\"M17.41 7.96l-1.37-1.37c-.4-.4-.92-.59-1.43-.59-.52 0-1.04.2-1.43.59L10.3 9.45l-7.72 7.72c-.78.78-.78 2.05 0 2.83L4 21.41c.39.39.9.59 1.41.59.51 0 1.02-.2 1.41-.59l7.78-7.78 2.81-2.81c.8-.78.8-2.07 0-2.86zM5.41 20L4 18.59l7.72-7.72 1.47 1.35L5.41 20z\"/>\n",
              "  </svg>\n",
              "      </button>\n",
              "      \n",
              "  <style>\n",
              "    .colab-df-container {\n",
              "      display:flex;\n",
              "      flex-wrap:wrap;\n",
              "      gap: 12px;\n",
              "    }\n",
              "\n",
              "    .colab-df-convert {\n",
              "      background-color: #E8F0FE;\n",
              "      border: none;\n",
              "      border-radius: 50%;\n",
              "      cursor: pointer;\n",
              "      display: none;\n",
              "      fill: #1967D2;\n",
              "      height: 32px;\n",
              "      padding: 0 0 0 0;\n",
              "      width: 32px;\n",
              "    }\n",
              "\n",
              "    .colab-df-convert:hover {\n",
              "      background-color: #E2EBFA;\n",
              "      box-shadow: 0px 1px 2px rgba(60, 64, 67, 0.3), 0px 1px 3px 1px rgba(60, 64, 67, 0.15);\n",
              "      fill: #174EA6;\n",
              "    }\n",
              "\n",
              "    [theme=dark] .colab-df-convert {\n",
              "      background-color: #3B4455;\n",
              "      fill: #D2E3FC;\n",
              "    }\n",
              "\n",
              "    [theme=dark] .colab-df-convert:hover {\n",
              "      background-color: #434B5C;\n",
              "      box-shadow: 0px 1px 3px 1px rgba(0, 0, 0, 0.15);\n",
              "      filter: drop-shadow(0px 1px 2px rgba(0, 0, 0, 0.3));\n",
              "      fill: #FFFFFF;\n",
              "    }\n",
              "  </style>\n",
              "\n",
              "      <script>\n",
              "        const buttonEl =\n",
              "          document.querySelector('#df-d13879a4-937d-402f-bb4e-e753f37730c6 button.colab-df-convert');\n",
              "        buttonEl.style.display =\n",
              "          google.colab.kernel.accessAllowed ? 'block' : 'none';\n",
              "\n",
              "        async function convertToInteractive(key) {\n",
              "          const element = document.querySelector('#df-d13879a4-937d-402f-bb4e-e753f37730c6');\n",
              "          const dataTable =\n",
              "            await google.colab.kernel.invokeFunction('convertToInteractive',\n",
              "                                                     [key], {});\n",
              "          if (!dataTable) return;\n",
              "\n",
              "          const docLinkHtml = 'Like what you see? Visit the ' +\n",
              "            '<a target=\"_blank\" href=https://colab.research.google.com/notebooks/data_table.ipynb>data table notebook</a>'\n",
              "            + ' to learn more about interactive tables.';\n",
              "          element.innerHTML = '';\n",
              "          dataTable['output_type'] = 'display_data';\n",
              "          await google.colab.output.renderOutput(dataTable, element);\n",
              "          const docLink = document.createElement('div');\n",
              "          docLink.innerHTML = docLinkHtml;\n",
              "          element.appendChild(docLink);\n",
              "        }\n",
              "      </script>\n",
              "    </div>\n",
              "  </div>\n",
              "  "
            ]
          },
          "metadata": {},
          "execution_count": 24
        }
      ]
    },
    {
      "cell_type": "code",
      "source": [
        "concrete_data_columns = concrete_data.columns\n",
        "\n",
        "predictors = concrete_data[concrete_data_columns[concrete_data_columns != 'Strength']] # all columns except Strength\n",
        "target = concrete_data['Strength'] # Strength column"
      ],
      "metadata": {
        "id": "tnlvQkiV8fjK"
      },
      "execution_count": 25,
      "outputs": []
    },
    {
      "cell_type": "markdown",
      "source": [
        "normalizing data"
      ],
      "metadata": {
        "id": "VfX0Ns47FX14"
      }
    },
    {
      "cell_type": "code",
      "source": [
        "normalized_predictors = (predictors - predictors.mean()) / predictors.std()"
      ],
      "metadata": {
        "id": "xO140iVrFdMW"
      },
      "execution_count": 34,
      "outputs": []
    },
    {
      "cell_type": "markdown",
      "source": [
        "Split dataset into training and test"
      ],
      "metadata": {
        "id": "36xQCfJn9ay_"
      }
    },
    {
      "cell_type": "code",
      "source": [
        "X_train, X_test, y_train, y_test = train_test_split(normalized_predictors, target, test_size=0.3, random_state=4)"
      ],
      "metadata": {
        "id": "iVIjlgrY8mj9"
      },
      "execution_count": 35,
      "outputs": []
    },
    {
      "cell_type": "markdown",
      "source": [
        "Number of predictors"
      ],
      "metadata": {
        "id": "-qAB9m8u9mCi"
      }
    },
    {
      "cell_type": "code",
      "source": [
        "n_cols = predictors.shape[1]\n",
        "print('Number of predictors:', n_cols)"
      ],
      "metadata": {
        "colab": {
          "base_uri": "https://localhost:8080/"
        },
        "id": "pSKBFff89s8M",
        "outputId": "f23e70e3-d34e-4862-d5f0-d046305ae396"
      },
      "execution_count": 36,
      "outputs": [
        {
          "output_type": "stream",
          "name": "stdout",
          "text": [
            "Number of predictors: 8\n"
          ]
        }
      ]
    },
    {
      "cell_type": "markdown",
      "source": [
        "Defining the regression model"
      ],
      "metadata": {
        "id": "8c8oppi994zL"
      }
    },
    {
      "cell_type": "code",
      "source": [
        "def reg_model():\n",
        "  model = Sequential()\n",
        "  model.add(Dense(10, activation='relu', input_shape=(n_cols,)))\n",
        "  model.add(Dense(10, activation='relu'))\n",
        "  model.add(Dense(10, activation='relu'))\n",
        "  model.add(Dense(1))\n",
        "  model.compile(optimizer='adam', loss='mean_squared_error')\n",
        "  return model"
      ],
      "metadata": {
        "id": "rnMLuhw499TT"
      },
      "execution_count": 45,
      "outputs": []
    },
    {
      "cell_type": "markdown",
      "source": [
        "building and fitting the model\n",
        "\n"
      ],
      "metadata": {
        "id": "z2s5fDfI-akg"
      }
    },
    {
      "cell_type": "code",
      "source": [
        "model=reg_model()"
      ],
      "metadata": {
        "id": "Yq3mnPu4-i23"
      },
      "execution_count": 46,
      "outputs": []
    },
    {
      "cell_type": "code",
      "source": [
        "model.fit(X_train, y_train, epochs=50, verbose=1)"
      ],
      "metadata": {
        "colab": {
          "base_uri": "https://localhost:8080/"
        },
        "id": "HDQbbp8x-1Ej",
        "outputId": "b236e864-0bc4-46f9-aafb-5043bd320bc5"
      },
      "execution_count": 47,
      "outputs": [
        {
          "output_type": "stream",
          "name": "stdout",
          "text": [
            "Epoch 1/50\n",
            "23/23 [==============================] - 2s 2ms/step - loss: 1573.5475\n",
            "Epoch 2/50\n",
            "23/23 [==============================] - 0s 2ms/step - loss: 1563.9209\n",
            "Epoch 3/50\n",
            "23/23 [==============================] - 0s 2ms/step - loss: 1553.9348\n",
            "Epoch 4/50\n",
            "23/23 [==============================] - 0s 3ms/step - loss: 1537.5297\n",
            "Epoch 5/50\n",
            "23/23 [==============================] - 0s 2ms/step - loss: 1509.5780\n",
            "Epoch 6/50\n",
            "23/23 [==============================] - 0s 2ms/step - loss: 1464.7678\n",
            "Epoch 7/50\n",
            "23/23 [==============================] - 0s 2ms/step - loss: 1395.3749\n",
            "Epoch 8/50\n",
            "23/23 [==============================] - 0s 2ms/step - loss: 1294.2639\n",
            "Epoch 9/50\n",
            "23/23 [==============================] - 0s 2ms/step - loss: 1149.0773\n",
            "Epoch 10/50\n",
            "23/23 [==============================] - 0s 2ms/step - loss: 954.8264\n",
            "Epoch 11/50\n",
            "23/23 [==============================] - 0s 2ms/step - loss: 726.2665\n",
            "Epoch 12/50\n",
            "23/23 [==============================] - 0s 2ms/step - loss: 510.3053\n",
            "Epoch 13/50\n",
            "23/23 [==============================] - 0s 2ms/step - loss: 361.6331\n",
            "Epoch 14/50\n",
            "23/23 [==============================] - 0s 2ms/step - loss: 287.0271\n",
            "Epoch 15/50\n",
            "23/23 [==============================] - 0s 2ms/step - loss: 258.0664\n",
            "Epoch 16/50\n",
            "23/23 [==============================] - 0s 2ms/step - loss: 240.0918\n",
            "Epoch 17/50\n",
            "23/23 [==============================] - 0s 2ms/step - loss: 226.4625\n",
            "Epoch 18/50\n",
            "23/23 [==============================] - 0s 2ms/step - loss: 215.3037\n",
            "Epoch 19/50\n",
            "23/23 [==============================] - 0s 2ms/step - loss: 206.5803\n",
            "Epoch 20/50\n",
            "23/23 [==============================] - 0s 2ms/step - loss: 198.8723\n",
            "Epoch 21/50\n",
            "23/23 [==============================] - 0s 2ms/step - loss: 192.5609\n",
            "Epoch 22/50\n",
            "23/23 [==============================] - 0s 2ms/step - loss: 186.0999\n",
            "Epoch 23/50\n",
            "23/23 [==============================] - 0s 2ms/step - loss: 180.9660\n",
            "Epoch 24/50\n",
            "23/23 [==============================] - 0s 2ms/step - loss: 176.3939\n",
            "Epoch 25/50\n",
            "23/23 [==============================] - 0s 2ms/step - loss: 172.0394\n",
            "Epoch 26/50\n",
            "23/23 [==============================] - 0s 2ms/step - loss: 168.5497\n",
            "Epoch 27/50\n",
            "23/23 [==============================] - 0s 2ms/step - loss: 165.2331\n",
            "Epoch 28/50\n",
            "23/23 [==============================] - 0s 2ms/step - loss: 161.9162\n",
            "Epoch 29/50\n",
            "23/23 [==============================] - 0s 2ms/step - loss: 159.0135\n",
            "Epoch 30/50\n",
            "23/23 [==============================] - 0s 2ms/step - loss: 156.9782\n",
            "Epoch 31/50\n",
            "23/23 [==============================] - 0s 4ms/step - loss: 154.2318\n",
            "Epoch 32/50\n",
            "23/23 [==============================] - 0s 2ms/step - loss: 152.2409\n",
            "Epoch 33/50\n",
            "23/23 [==============================] - 0s 2ms/step - loss: 149.6541\n",
            "Epoch 34/50\n",
            "23/23 [==============================] - 0s 2ms/step - loss: 147.5417\n",
            "Epoch 35/50\n",
            "23/23 [==============================] - 0s 2ms/step - loss: 145.6221\n",
            "Epoch 36/50\n",
            "23/23 [==============================] - 0s 2ms/step - loss: 143.6909\n",
            "Epoch 37/50\n",
            "23/23 [==============================] - 0s 2ms/step - loss: 141.8463\n",
            "Epoch 38/50\n",
            "23/23 [==============================] - 0s 2ms/step - loss: 140.1520\n",
            "Epoch 39/50\n",
            "23/23 [==============================] - 0s 2ms/step - loss: 138.2902\n",
            "Epoch 40/50\n",
            "23/23 [==============================] - 0s 2ms/step - loss: 136.5806\n",
            "Epoch 41/50\n",
            "23/23 [==============================] - 0s 2ms/step - loss: 135.4874\n",
            "Epoch 42/50\n",
            "23/23 [==============================] - 0s 2ms/step - loss: 133.8662\n",
            "Epoch 43/50\n",
            "23/23 [==============================] - 0s 2ms/step - loss: 132.3832\n",
            "Epoch 44/50\n",
            "23/23 [==============================] - 0s 2ms/step - loss: 130.4362\n",
            "Epoch 45/50\n",
            "23/23 [==============================] - 0s 2ms/step - loss: 129.0986\n",
            "Epoch 46/50\n",
            "23/23 [==============================] - 0s 2ms/step - loss: 127.9171\n",
            "Epoch 47/50\n",
            "23/23 [==============================] - 0s 2ms/step - loss: 126.3279\n",
            "Epoch 48/50\n",
            "23/23 [==============================] - 0s 2ms/step - loss: 125.2295\n",
            "Epoch 49/50\n",
            "23/23 [==============================] - 0s 2ms/step - loss: 123.8301\n",
            "Epoch 50/50\n",
            "23/23 [==============================] - 0s 2ms/step - loss: 122.7882\n"
          ]
        },
        {
          "output_type": "execute_result",
          "data": {
            "text/plain": [
              "<keras.callbacks.History at 0x7f85fe0e98b0>"
            ]
          },
          "metadata": {},
          "execution_count": 47
        }
      ]
    },
    {
      "cell_type": "markdown",
      "source": [
        "Predicting X_test"
      ],
      "metadata": {
        "id": "yKIR4c1P_oO5"
      }
    },
    {
      "cell_type": "code",
      "source": [
        "yhat=model.predict(X_test)\n",
        "loss=mean_squared_error(y_test, yhat)\n",
        "mean=np.mean(loss)\n",
        "st_d=np.std(loss)\n",
        "\n",
        "print('mean squared error:', mean)\n",
        "print(\"standrad deviation:\", st_d)"
      ],
      "metadata": {
        "colab": {
          "base_uri": "https://localhost:8080/"
        },
        "id": "73pVOxcN_upc",
        "outputId": "a5474c5d-0215-45f7-cd30-821d9472be75"
      },
      "execution_count": 48,
      "outputs": [
        {
          "output_type": "stream",
          "name": "stdout",
          "text": [
            "10/10 [==============================] - 0s 2ms/step\n",
            "mean squared error: 126.79545563463239\n",
            "standrad deviation: 0.0\n"
          ]
        }
      ]
    },
    {
      "cell_type": "markdown",
      "source": [
        "Repeat for 50 times and report MSE"
      ],
      "metadata": {
        "id": "jysU06g8AmVu"
      }
    },
    {
      "cell_type": "code",
      "source": [
        "total_mean_squared_errors = 50\n",
        "mean_squared_errors = []\n",
        "for i in range(0, total_mean_squared_errors):\n",
        "    X_train, X_test, y_train, y_test = train_test_split(normalized_predictors, target, test_size=0.3, random_state=i)\n",
        "    model.fit(X_train, y_train, epochs=50, verbose=0)\n",
        "    MSE = model.evaluate(X_test, y_test, verbose=0)\n",
        "    print(\"MSE \"+str(i+1)+\": \"+str(MSE))\n",
        "\n",
        "    y_pred = model.predict(X_test)\n",
        "    mean_square_error = mean_squared_error(y_test, y_pred)\n",
        "    mean_squared_errors.append(mean_square_error)\n",
        "\n",
        "mean_squared_errors = np.array(mean_squared_errors)\n",
        "mean = np.mean(mean_squared_errors)\n",
        "standard_deviation = np.std(mean_squared_errors)\n",
        "\n",
        "print('\\n')\n",
        "print(\"Below is the mean and standard deviation of \" +str(total_mean_squared_errors) + \" mean squared errors \")\n",
        "print(\"Mean: \"+str(mean))\n",
        "print(\"Standard Deviation: \"+str(standard_deviation))"
      ],
      "metadata": {
        "colab": {
          "base_uri": "https://localhost:8080/"
        },
        "id": "kZQcPVtwAr-5",
        "outputId": "7dea76d2-827e-47a3-d22c-e9aea7b197b8"
      },
      "execution_count": 49,
      "outputs": [
        {
          "output_type": "stream",
          "name": "stdout",
          "text": [
            "MSE 1: 77.22940063476562\n",
            "10/10 [==============================] - 0s 2ms/step\n",
            "MSE 2: 70.57880401611328\n",
            "10/10 [==============================] - 0s 2ms/step\n",
            "MSE 3: 43.938385009765625\n",
            "10/10 [==============================] - 0s 2ms/step\n",
            "MSE 4: 45.484745025634766\n",
            "10/10 [==============================] - 0s 2ms/step\n",
            "MSE 5: 40.551090240478516\n",
            "10/10 [==============================] - 0s 2ms/step\n",
            "MSE 6: 41.86078643798828\n",
            "10/10 [==============================] - 0s 2ms/step\n",
            "MSE 7: 43.889766693115234\n",
            "10/10 [==============================] - 0s 2ms/step\n",
            "MSE 8: 32.41182327270508\n",
            "10/10 [==============================] - 0s 2ms/step\n",
            "MSE 9: 37.24239730834961\n",
            "10/10 [==============================] - 0s 2ms/step\n",
            "MSE 10: 41.39546203613281\n",
            "10/10 [==============================] - 0s 2ms/step\n",
            "MSE 11: 35.36323165893555\n",
            "10/10 [==============================] - 0s 2ms/step\n",
            "MSE 12: 27.084735870361328\n",
            "10/10 [==============================] - 0s 2ms/step\n",
            "MSE 13: 37.1400146484375\n",
            "10/10 [==============================] - 0s 2ms/step\n",
            "MSE 14: 36.538997650146484\n",
            "10/10 [==============================] - 0s 2ms/step\n",
            "MSE 15: 28.296695709228516\n",
            "10/10 [==============================] - 0s 2ms/step\n",
            "MSE 16: 28.209365844726562\n",
            "10/10 [==============================] - 0s 2ms/step\n",
            "MSE 17: 32.71815872192383\n",
            "10/10 [==============================] - 0s 2ms/step\n",
            "MSE 18: 31.322309494018555\n",
            "10/10 [==============================] - 0s 2ms/step\n",
            "MSE 19: 29.580808639526367\n",
            "10/10 [==============================] - 0s 2ms/step\n",
            "MSE 20: 31.054231643676758\n",
            "10/10 [==============================] - 0s 2ms/step\n",
            "MSE 21: 31.665910720825195\n",
            "10/10 [==============================] - 0s 3ms/step\n",
            "MSE 22: 32.619117736816406\n",
            "10/10 [==============================] - 0s 2ms/step\n",
            "MSE 23: 26.772903442382812\n",
            "10/10 [==============================] - 0s 2ms/step\n",
            "MSE 24: 29.93006706237793\n",
            "10/10 [==============================] - 0s 2ms/step\n",
            "MSE 25: 32.153472900390625\n",
            "10/10 [==============================] - 0s 2ms/step\n",
            "MSE 26: 30.920272827148438\n",
            "10/10 [==============================] - 0s 3ms/step\n",
            "MSE 27: 31.04854965209961\n",
            "10/10 [==============================] - 0s 2ms/step\n",
            "MSE 28: 29.318191528320312\n",
            "10/10 [==============================] - 0s 2ms/step\n",
            "MSE 29: 36.22488021850586\n",
            "10/10 [==============================] - 0s 2ms/step\n",
            "MSE 30: 30.45269775390625\n",
            "10/10 [==============================] - 0s 2ms/step\n",
            "MSE 31: 29.336660385131836\n",
            "10/10 [==============================] - 0s 2ms/step\n",
            "MSE 32: 27.431482315063477\n",
            "10/10 [==============================] - 0s 2ms/step\n",
            "MSE 33: 30.941131591796875\n",
            "10/10 [==============================] - 0s 2ms/step\n",
            "MSE 34: 30.933761596679688\n",
            "10/10 [==============================] - 0s 3ms/step\n",
            "MSE 35: 27.41834259033203\n",
            "10/10 [==============================] - 0s 3ms/step\n",
            "MSE 36: 35.99491882324219\n",
            "10/10 [==============================] - 0s 2ms/step\n",
            "MSE 37: 29.399606704711914\n",
            "10/10 [==============================] - 0s 2ms/step\n",
            "MSE 38: 31.3372745513916\n",
            "10/10 [==============================] - 0s 2ms/step\n",
            "MSE 39: 32.600311279296875\n",
            "10/10 [==============================] - 0s 2ms/step\n",
            "MSE 40: 26.699487686157227\n",
            "10/10 [==============================] - 0s 3ms/step\n",
            "MSE 41: 35.11944580078125\n",
            "10/10 [==============================] - 0s 2ms/step\n",
            "MSE 42: 28.58110237121582\n",
            "10/10 [==============================] - 0s 2ms/step\n",
            "MSE 43: 29.8355770111084\n",
            "10/10 [==============================] - 0s 2ms/step\n",
            "MSE 44: 34.42430114746094\n",
            "10/10 [==============================] - 0s 2ms/step\n",
            "MSE 45: 32.573707580566406\n",
            "10/10 [==============================] - 0s 3ms/step\n",
            "MSE 46: 30.334705352783203\n",
            "10/10 [==============================] - 0s 3ms/step\n",
            "MSE 47: 28.083961486816406\n",
            "10/10 [==============================] - 0s 2ms/step\n",
            "MSE 48: 32.511634826660156\n",
            "10/10 [==============================] - 0s 2ms/step\n",
            "MSE 49: 28.58536148071289\n",
            "10/10 [==============================] - 0s 2ms/step\n",
            "MSE 50: 28.131065368652344\n",
            "10/10 [==============================] - 0s 2ms/step\n",
            "\n",
            "\n",
            "Below is the mean and standard deviation of 50 mean squared errors \n",
            "Mean: 34.26542272104648\n",
            "Standard Deviation: 9.369633551374273\n"
          ]
        }
      ]
    },
    {
      "cell_type": "code",
      "source": [],
      "metadata": {
        "id": "1D1StSIXBCPv"
      },
      "execution_count": null,
      "outputs": []
    }
  ]
}